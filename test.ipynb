{
 "cells": [
  {
   "cell_type": "code",
   "execution_count": 1,
   "metadata": {},
   "outputs": [],
   "source": [
    "import os\n",
    "import numpy as np\n",
    "from dataclasses import dataclass, fields\n",
    "from VASP_job.code.main import VASP_job\n",
    "\n",
    "import pandas as pd"
   ]
  },
  {
   "cell_type": "markdown",
   "metadata": {},
   "source": [
    "Inputs\n",
    "\n",
    "- positions\n",
    "- magmoms\n",
    "- element\n",
    "- betah"
   ]
  },
  {
   "cell_type": "code",
   "execution_count": 2,
   "metadata": {},
   "outputs": [
    {
     "data": {
      "text/html": [
       "<div>\n",
       "<style scoped>\n",
       "    .dataframe tbody tr th:only-of-type {\n",
       "        vertical-align: middle;\n",
       "    }\n",
       "\n",
       "    .dataframe tbody tr th {\n",
       "        vertical-align: top;\n",
       "    }\n",
       "\n",
       "    .dataframe thead th {\n",
       "        text-align: right;\n",
       "    }\n",
       "</style>\n",
       "<table border=\"1\" class=\"dataframe\">\n",
       "  <thead>\n",
       "    <tr style=\"text-align: right;\">\n",
       "      <th></th>\n",
       "      <th>elements</th>\n",
       "      <th>positions</th>\n",
       "      <th>magmoms</th>\n",
       "      <th>betahs</th>\n",
       "      <th>B_CONSTRs</th>\n",
       "    </tr>\n",
       "  </thead>\n",
       "  <tbody>\n",
       "    <tr>\n",
       "      <th>1</th>\n",
       "      <td>Ga</td>\n",
       "      <td>[0.5, 0.5, 0.5]</td>\n",
       "      <td>[0, 0, 0]</td>\n",
       "      <td>False</td>\n",
       "      <td>[0, 0, 0]</td>\n",
       "    </tr>\n",
       "    <tr>\n",
       "      <th>0</th>\n",
       "      <td>Mn</td>\n",
       "      <td>[0, 0, 0]</td>\n",
       "      <td>[0, 0, 2]</td>\n",
       "      <td>1.0</td>\n",
       "      <td>[0, 0, 0]</td>\n",
       "    </tr>\n",
       "    <tr>\n",
       "      <th>2</th>\n",
       "      <td>Mn</td>\n",
       "      <td>[0.75, 0.75, 0.75]</td>\n",
       "      <td>[0, 0, 2]</td>\n",
       "      <td>1.0</td>\n",
       "      <td>[0, 0, 0]</td>\n",
       "    </tr>\n",
       "  </tbody>\n",
       "</table>\n",
       "</div>"
      ],
      "text/plain": [
       "  elements           positions    magmoms betahs  B_CONSTRs\n",
       "1       Ga     [0.5, 0.5, 0.5]  [0, 0, 0]  False  [0, 0, 0]\n",
       "0       Mn           [0, 0, 0]  [0, 0, 2]    1.0  [0, 0, 0]\n",
       "2       Mn  [0.75, 0.75, 0.75]  [0, 0, 2]    1.0  [0, 0, 0]"
      ]
     },
     "execution_count": 2,
     "metadata": {},
     "output_type": "execute_result"
    }
   ],
   "source": [
    "atoms = pd.DataFrame({\n",
    "   \"elements\"  : [\"Mn\", \"Ga\", \"Mn\"],\n",
    "   \"positions\" : [[0, 0, 0], [0.5, 0.5, 0.5], [0.75, 0.75, 0.75]],\n",
    "   \"magmoms\"   : [[0, 0, 2], [0, 0, 0], [0, 0, 2]],\n",
    "   \"betahs\"    : [1.0, False, 1.0],\n",
    "   \"B_CONSTRs\" : [[0, 0, 0], [0, 0, 0], [0, 0, 0]]\n",
    "})\n",
    "atoms = atoms.sort_values(\"elements\")\n",
    "atoms"
   ]
  },
  {
   "cell_type": "code",
   "execution_count": 3,
   "metadata": {},
   "outputs": [
    {
     "name": "stdout",
     "output_type": "stream",
     "text": [
      "\n",
      "Your executable is:\n",
      "   /home/emendive/workbench/work/from_claix/codes/VASP/vasp.5.4.4-flag4/bin/vasp_ncl\n",
      "\n",
      "Your current working directory (cwd) is:\n",
      "   /home/emendive/workbench/devel/gitclones/VASP_job/\n",
      "\n",
      "Your INCAR parameters are:\n",
      "   SYSTEM = my material #jobname\n",
      "   PREC = Accurate\n",
      "   ALGO = Fast\n",
      "   NPAR = 8\n",
      "   LREAL = .FALSE.\n",
      "   LWAVE = .FALSE.\n",
      "   LCHARG = .TRUE.\n",
      "   LORBIT = 10\n",
      "   ISMEAR = 1\n",
      "   SIGMA = 0.03\n",
      "   ISTART = 0\n",
      "   ICHARG = 2\n",
      "   ISPIN = 2\n",
      "   ENCUT = 500\n",
      "   EDIFF = 1e-6\n",
      "   NELM = 200\n",
      "   LMAXMIX = 6\n",
      "   LNONCOLLINEAR = .TRUE.\n",
      "\n",
      "Your INCAR parameters for constraining fields are:\n",
      "   I_CONSTRAINED = 4\n",
      "   LAMBDA = 1\n",
      "   B_MIX = 1.0\n",
      "   B_ref = 0.02\n",
      "   N_MIX = 4\n",
      "   E_PENALTY_MAX = 3.8\n",
      "   LAMBDA_FIELD_MAX = 1e-3\n",
      "\n",
      "Your RWIGS parameters are:\n",
      "   Mn = 1.323\n",
      "   N = 0.979\n",
      "   Ga = 1.058\n",
      "   Ni = 1.058\n",
      "\n",
      "Your potentials are:\n",
      "   Mn = Mn_pv\n",
      "   N = N\n",
      "   Ga = Ga_d\n",
      "   Ni = Ni_pv\n"
     ]
    }
   ],
   "source": [
    "executable_path= \"/home/emendive/workbench/work/from_claix/codes/VASP/vasp.5.4.4-flag4/bin\"\n",
    "potential_path = \"/home/emendive/workbench/work/from_claix/codes/VASP/potentials/potpaw_PBE\"\n",
    "vasp = VASP_job(verbose=\"high\", executable_path=executable_path, potential_path=potential_path)"
   ]
  },
  {
   "cell_type": "code",
   "execution_count": 10,
   "metadata": {},
   "outputs": [
    {
     "data": {
      "text/plain": [
       "'/home/emendive/workbench/devel/gitclones/VASP_job/test/'"
      ]
     },
     "execution_count": 10,
     "metadata": {},
     "output_type": "execute_result"
    }
   ],
   "source": [
    "vasp.io.cwd = '/home/emendive/workbench/devel/gitclones/VASP_job/test'\n",
    "vasp.io.cwd"
   ]
  },
  {
   "cell_type": "code",
   "execution_count": 11,
   "metadata": {},
   "outputs": [
    {
     "data": {
      "text/plain": [
       "'/home/emendive/workbench/devel/gitclones/VASP_job/test/INCAR'"
      ]
     },
     "execution_count": 11,
     "metadata": {},
     "output_type": "execute_result"
    }
   ],
   "source": [
    "vasp.io.INCAR_file"
   ]
  },
  {
   "cell_type": "code",
   "execution_count": 12,
   "metadata": {},
   "outputs": [],
   "source": [
    "vasp.io.constr_INCAR_parameters.I_CONSTRAINED = \"5\"\n",
    "vasp.structure.kpoints = \"2 2 2\"\n",
    "vasp.prepare_calculation(atoms)"
   ]
  },
  {
   "cell_type": "code",
   "execution_count": 13,
   "metadata": {},
   "outputs": [
    {
     "data": {
      "text/plain": [
       "'5'"
      ]
     },
     "execution_count": 13,
     "metadata": {},
     "output_type": "execute_result"
    }
   ],
   "source": [
    "vasp.io.constr_INCAR_parameters.I_CONSTRAINED"
   ]
  },
  {
   "cell_type": "code",
   "execution_count": 14,
   "metadata": {},
   "outputs": [
    {
     "data": {
      "text/plain": [
       "[[0, 0, 0], [0, 0, 0], [0, 0, 0]]"
      ]
     },
     "execution_count": 14,
     "metadata": {},
     "output_type": "execute_result"
    }
   ],
   "source": [
    "vasp.magnetism.B_CONSTRs"
   ]
  },
  {
   "cell_type": "code",
   "execution_count": 17,
   "metadata": {},
   "outputs": [
    {
     "data": {
      "text/plain": [
       "'/home/emendive/workbench/devel/gitclones/VASP_job/test/'"
      ]
     },
     "execution_count": 17,
     "metadata": {},
     "output_type": "execute_result"
    }
   ],
   "source": [
    "vasp.io.cwd"
   ]
  },
  {
   "cell_type": "code",
   "execution_count": 18,
   "metadata": {},
   "outputs": [
    {
     "data": {
      "text/plain": [
       "standard_INCAR_parameters(SYSTEM='my material #jobname', PREC='Accurate', ALGO='Fast', NPAR='8', LREAL='.FALSE.', LWAVE='.FALSE.', LCHARG='.TRUE.', LORBIT='10', ISMEAR='1', SIGMA='0.03', ISTART='0', ICHARG='2', ISPIN='2', ENCUT='500', EDIFF='1e-6', NELM='200', LMAXMIX='6', LNONCOLLINEAR='.TRUE.')"
      ]
     },
     "execution_count": 18,
     "metadata": {},
     "output_type": "execute_result"
    }
   ],
   "source": [
    "vasp.io.standard_INCAR_parameters"
   ]
  },
  {
   "cell_type": "code",
   "execution_count": 19,
   "metadata": {},
   "outputs": [
    {
     "data": {
      "text/plain": [
       "'1 1 1'"
      ]
     },
     "execution_count": 19,
     "metadata": {},
     "output_type": "execute_result"
    }
   ],
   "source": [
    "vasp.structure.kpoints = \"1 1 1\"\n",
    "vasp.structure.kpoints"
   ]
  },
  {
   "cell_type": "code",
   "execution_count": 21,
   "metadata": {},
   "outputs": [],
   "source": [
    "vasp.structure.elements = [\"Ni\"]\n",
    "vasp.io.potential_files.Ni = \"Ni\""
   ]
  }
 ],
 "metadata": {
  "kernelspec": {
   "display_name": "work",
   "language": "python",
   "name": "python3"
  },
  "language_info": {
   "codemirror_mode": {
    "name": "ipython",
    "version": 3
   },
   "file_extension": ".py",
   "mimetype": "text/x-python",
   "name": "python",
   "nbconvert_exporter": "python",
   "pygments_lexer": "ipython3",
   "version": "3.9.13"
  },
  "orig_nbformat": 4
 },
 "nbformat": 4,
 "nbformat_minor": 2
}
