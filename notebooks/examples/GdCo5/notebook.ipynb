{
 "cells": [
  {
   "cell_type": "markdown",
   "metadata": {},
   "source": [
    "This notebook contains a few examples for bcc Fe to illustrate how pyVASP works\n",
    "\n",
    "- Note: They only show how to create the inputs (set_calculation()), to submit the job, use:\n",
    "   \n",
    "   self.run_vasp() or self.submit_job()"
   ]
  },
  {
   "cell_type": "code",
   "execution_count": 1,
   "metadata": {},
   "outputs": [
    {
     "data": {
      "application/vnd.jupyter.widget-view+json": {
       "model_id": "78737b9663e947cc96b620d47dd3860f",
       "version_major": 2,
       "version_minor": 0
      },
      "text/plain": []
     },
     "metadata": {},
     "output_type": "display_data"
    }
   ],
   "source": [
    "from subprocess import run\n",
    "import numpy as np\n",
    "from pyVASP.code.main import pyVASP\n",
    "\n",
    "import pandas as pd\n",
    "import ase\n",
    "from ase.spacegroup import crystal\n",
    "\n",
    "# Define a custom formatting function for vectors in pandas\n",
    "format_vector = lambda vector: '[' + ', '.join(['{:.10f}'.format(x) for x in vector]) + ']'\n",
    "\n",
    "import nglview"
   ]
  },
  {
   "cell_type": "code",
   "execution_count": 2,
   "metadata": {},
   "outputs": [],
   "source": [
    "# set executable\n",
    "executable_path= \"/home/emendive/workbench/work/from_claix/codes/VASP/vasp.5.4.4-flag4/bin\"\n",
    "potential_path = \"/home/emendive/workbench/work/from_claix/codes/VASP/potentials/potpaw_PBE\""
   ]
  },
  {
   "cell_type": "markdown",
   "metadata": {},
   "source": [
    "# set calculation"
   ]
  },
  {
   "cell_type": "markdown",
   "metadata": {},
   "source": [
    "set crystal structure"
   ]
  },
  {
   "cell_type": "code",
   "execution_count": 3,
   "metadata": {},
   "outputs": [
    {
     "name": "stderr",
     "output_type": "stream",
     "text": [
      "/home/emendive/.local/lib/python3.9/site-packages/ase/spacegroup/spacegroup.py:433: UserWarning: scaled_positions 1 and 3 are equivalent\n",
      "  warnings.warn('scaled_positions %d and %d '\n",
      "/home/emendive/.local/lib/python3.9/site-packages/ase/spacegroup/spacegroup.py:433: UserWarning: scaled_positions 1 and 4 are equivalent\n",
      "  warnings.warn('scaled_positions %d and %d '\n",
      "/home/emendive/.local/lib/python3.9/site-packages/ase/spacegroup/spacegroup.py:433: UserWarning: scaled_positions 2 and 5 are equivalent\n",
      "  warnings.warn('scaled_positions %d and %d '\n"
     ]
    }
   ],
   "source": [
    "a = 4.940\n",
    "c = 3.493\n",
    "alpha = 90\n",
    "structure = crystal(('Gd', 'Co', 'Co'),\n",
    "                       basis=[(0.00, 0.00, 0.00), (0.00, 0.50, 0.50), (1/3, 2/3, 0.00), (0.50, 0.50, 0.50), (0.50, 0.00, 0.50), (2/3, 1/3, 0.00)],\n",
    "                       spacegroup=191,\n",
    "                       cellpar=[a, a, c, alpha, alpha, alpha])"
   ]
  },
  {
   "cell_type": "markdown",
   "metadata": {},
   "source": [
    "set calculation"
   ]
  },
  {
   "cell_type": "code",
   "execution_count": 4,
   "metadata": {},
   "outputs": [],
   "source": [
    "# create vasp class\n",
    "vasp = pyVASP(verbose=\"low\", executable_path=executable_path, potential_path=potential_path, seed_mag=23)"
   ]
  },
  {
   "cell_type": "code",
   "execution_count": 5,
   "metadata": {},
   "outputs": [],
   "source": [
    "# set magdirs for a triangular AFM state\n",
    "value_of_m = 0.99\n",
    "\n",
    "number_of_atoms = len(structure)\n",
    "magdirs   = []\n",
    "ms    = []\n",
    "# B_CONSTRs = []\n",
    "for i in range(number_of_atoms):\n",
    "   if 'Co' == structure.get_chemical_symbols()[i]:\n",
    "      magdirs.append([0.0, 0.0, 1.0])\n",
    "      ms.append(value_of_m)\n",
    "      # B_CONSTRs.append([0.0, 0.0, 0.0])\n",
    "   else:\n",
    "      magdirs.append([0.0, 0.0, -1.0])\n",
    "      ms.append(value_of_m)\n",
    "      # B_CONSTRs.append([0.0, 0.0, 0.0])\n",
    "\n",
    "structure.new_array(\"magdirs\", magdirs, dtype=float)\n",
    "structure.new_array(\"ms\", ms, dtype=float)\n",
    "# structure.new_array(\"B_CONSTR\", B_CONSTR, dtype=float)"
   ]
  },
  {
   "cell_type": "code",
   "execution_count": 6,
   "metadata": {},
   "outputs": [],
   "source": [
    "# first prepare bfields (constraints)\n",
    "vasp.prepare_bfields(I_CONSTRAINED_M=\"4\", LAMBDA=\"1\")\n",
    "# set calculation, which creates all input files\n",
    "vasp.set_calculation(structure)"
   ]
  },
  {
   "cell_type": "markdown",
   "metadata": {},
   "source": [
    "visualize structure"
   ]
  },
  {
   "cell_type": "code",
   "execution_count": 7,
   "metadata": {},
   "outputs": [
    {
     "data": {
      "application/vnd.jupyter.widget-view+json": {
       "model_id": "4de4605a022e4f3e9a5b19db838fb12c",
       "version_major": 2,
       "version_minor": 0
      },
      "text/plain": [
       "NGLWidget()"
      ]
     },
     "metadata": {},
     "output_type": "display_data"
    }
   ],
   "source": [
    "view = nglview.show_ase(structure)\n",
    "view.add_unitcell()\n",
    "view"
   ]
  },
  {
   "cell_type": "markdown",
   "metadata": {},
   "source": [
    "visualize some inputs"
   ]
  },
  {
   "cell_type": "code",
   "execution_count": 8,
   "metadata": {},
   "outputs": [
    {
     "data": {
      "text/html": [
       "<div>\n",
       "<style scoped>\n",
       "    .dataframe tbody tr th:only-of-type {\n",
       "        vertical-align: middle;\n",
       "    }\n",
       "\n",
       "    .dataframe tbody tr th {\n",
       "        vertical-align: top;\n",
       "    }\n",
       "\n",
       "    .dataframe thead th {\n",
       "        text-align: right;\n",
       "    }\n",
       "</style>\n",
       "<table border=\"1\" class=\"dataframe\">\n",
       "  <thead>\n",
       "    <tr style=\"text-align: right;\">\n",
       "      <th></th>\n",
       "      <th>elements</th>\n",
       "      <th>positions</th>\n",
       "      <th>magdirs</th>\n",
       "      <th>ms</th>\n",
       "      <th>betahs</th>\n",
       "      <th>magmoms</th>\n",
       "      <th>B_CONSTRs</th>\n",
       "    </tr>\n",
       "  </thead>\n",
       "  <tbody>\n",
       "    <tr>\n",
       "      <th>1</th>\n",
       "      <td>Co</td>\n",
       "      <td>(0.0, 2.47, 1.7465)</td>\n",
       "      <td>(0.0, 0.0, 1.0)</td>\n",
       "      <td>0.99</td>\n",
       "      <td>100.0</td>\n",
       "      <td>(-0.034300783435359715, 0.16617981581968974, 0...</td>\n",
       "      <td>(0.0, 0.0, 0.0)</td>\n",
       "    </tr>\n",
       "    <tr>\n",
       "      <th>4</th>\n",
       "      <td>Co</td>\n",
       "      <td>(1.6466666666666667, 3.2933333333333334, 0.0)</td>\n",
       "      <td>(0.0, 0.0, 1.0)</td>\n",
       "      <td>0.99</td>\n",
       "      <td>100.0</td>\n",
       "      <td>(-0.11775258192804533, 0.07274014406325732, 0....</td>\n",
       "      <td>(0.0, 0.0, 0.0)</td>\n",
       "    </tr>\n",
       "    <tr>\n",
       "      <th>3</th>\n",
       "      <td>Co</td>\n",
       "      <td>(2.47, 0.0, 1.7465)</td>\n",
       "      <td>(0.0, 0.0, 1.0)</td>\n",
       "      <td>0.99</td>\n",
       "      <td>100.0</td>\n",
       "      <td>(-0.047164822714184144, 0.03781414940626387, 0...</td>\n",
       "      <td>(0.0, 0.0, 0.0)</td>\n",
       "    </tr>\n",
       "    <tr>\n",
       "      <th>2</th>\n",
       "      <td>Co</td>\n",
       "      <td>(2.47, 2.47, 1.7465)</td>\n",
       "      <td>(0.0, 0.0, 1.0)</td>\n",
       "      <td>0.99</td>\n",
       "      <td>100.0</td>\n",
       "      <td>(-0.02755534726913883, -0.06504238663703146, 0...</td>\n",
       "      <td>(0.0, 0.0, 0.0)</td>\n",
       "    </tr>\n",
       "    <tr>\n",
       "      <th>5</th>\n",
       "      <td>Co</td>\n",
       "      <td>(3.293333333333334, 1.646666666666667, 0.0)</td>\n",
       "      <td>(0.0, 0.0, 1.0)</td>\n",
       "      <td>0.99</td>\n",
       "      <td>100.0</td>\n",
       "      <td>(0.005241567294710075, -0.004678017065439355, ...</td>\n",
       "      <td>(0.0, 0.0, 0.0)</td>\n",
       "    </tr>\n",
       "    <tr>\n",
       "      <th>0</th>\n",
       "      <td>Gd</td>\n",
       "      <td>(0.0, 0.0, 0.0)</td>\n",
       "      <td>(0.0, 0.0, -1.0)</td>\n",
       "      <td>0.99</td>\n",
       "      <td>100.0</td>\n",
       "      <td>(-0.11384657122650732, -0.039408363142266575, ...</td>\n",
       "      <td>(0.0, 0.0, 0.0)</td>\n",
       "    </tr>\n",
       "  </tbody>\n",
       "</table>\n",
       "</div>"
      ],
      "text/plain": [
       "  elements                                      positions           magdirs  \\\n",
       "1       Co                            (0.0, 2.47, 1.7465)   (0.0, 0.0, 1.0)   \n",
       "4       Co  (1.6466666666666667, 3.2933333333333334, 0.0)   (0.0, 0.0, 1.0)   \n",
       "3       Co                            (2.47, 0.0, 1.7465)   (0.0, 0.0, 1.0)   \n",
       "2       Co                           (2.47, 2.47, 1.7465)   (0.0, 0.0, 1.0)   \n",
       "5       Co    (3.293333333333334, 1.646666666666667, 0.0)   (0.0, 0.0, 1.0)   \n",
       "0       Gd                                (0.0, 0.0, 0.0)  (0.0, 0.0, -1.0)   \n",
       "\n",
       "     ms  betahs                                            magmoms  \\\n",
       "1  0.99   100.0  (-0.034300783435359715, 0.16617981581968974, 0...   \n",
       "4  0.99   100.0  (-0.11775258192804533, 0.07274014406325732, 0....   \n",
       "3  0.99   100.0  (-0.047164822714184144, 0.03781414940626387, 0...   \n",
       "2  0.99   100.0  (-0.02755534726913883, -0.06504238663703146, 0...   \n",
       "5  0.99   100.0  (0.005241567294710075, -0.004678017065439355, ...   \n",
       "0  0.99   100.0  (-0.11384657122650732, -0.039408363142266575, ...   \n",
       "\n",
       "         B_CONSTRs  \n",
       "1  (0.0, 0.0, 0.0)  \n",
       "4  (0.0, 0.0, 0.0)  \n",
       "3  (0.0, 0.0, 0.0)  \n",
       "2  (0.0, 0.0, 0.0)  \n",
       "5  (0.0, 0.0, 0.0)  \n",
       "0  (0.0, 0.0, 0.0)  "
      ]
     },
     "execution_count": 8,
     "metadata": {},
     "output_type": "execute_result"
    }
   ],
   "source": [
    "vasp.df"
   ]
  },
  {
   "cell_type": "code",
   "execution_count": 9,
   "metadata": {},
   "outputs": [
    {
     "data": {
      "text/plain": [
       "array([[0.        , 0.5       , 0.35354251],\n",
       "       [0.33333333, 0.66666667, 0.        ],\n",
       "       [0.5       , 0.        , 0.35354251],\n",
       "       [0.5       , 0.5       , 0.35354251],\n",
       "       [0.66666667, 0.33333333, 0.        ],\n",
       "       [0.        , 0.        , 0.        ]])"
      ]
     },
     "execution_count": 9,
     "metadata": {},
     "output_type": "execute_result"
    }
   ],
   "source": [
    "np.array(vasp.df[\"positions\"].tolist()) /a"
   ]
  },
  {
   "cell_type": "code",
   "execution_count": 10,
   "metadata": {},
   "outputs": [
    {
     "data": {
      "text/plain": [
       "1      [-0.0343007834, 0.1661798158, 0.9854987190]\n",
       "4      [-0.1177525819, 0.0727401441, 0.9903752829]\n",
       "3      [-0.0471648227, 0.0378141494, 0.9981711124]\n",
       "2     [-0.0275553473, -0.0650423866, 0.9975019753]\n",
       "5      [0.0052415673, -0.0046780171, 0.9999753208]\n",
       "0    [-0.1138465712, -0.0394083631, -0.9927164445]\n",
       "Name: magmoms, dtype: object"
      ]
     },
     "execution_count": 10,
     "metadata": {},
     "output_type": "execute_result"
    }
   ],
   "source": [
    "df_magmoms = vasp.df[\"magmoms\"].apply(format_vector)\n",
    "df_magmoms"
   ]
  },
  {
   "cell_type": "code",
   "execution_count": 11,
   "metadata": {},
   "outputs": [
    {
     "name": "stdout",
     "output_type": "stream",
     "text": [
      "kpoints = 12 12 12\n",
      "\n",
      "lattice vectors =\n",
      " [[4.94  0.    0.   ]\n",
      " [0.    4.94  0.   ]\n",
      " [0.    0.    3.493]]\n",
      "\n",
      "species = ['Co', 'Gd']\n",
      "\n",
      "elements = 1    Co\n",
      "4    Co\n",
      "3    Co\n",
      "2    Co\n",
      "5    Co\n",
      "0    Gd\n",
      "Name: elements, dtype: object\n"
     ]
    }
   ],
   "source": [
    "print(\"kpoints =\",vasp.structure.kpoints)\n",
    "print(\"\\nlattice vectors =\\n\",vasp.structure.lattice_vectors)\n",
    "print(\"\\nspecies =\",vasp.structure.species)\n",
    "print(\"\\nelements =\",vasp.structure.elements)"
   ]
  }
 ],
 "metadata": {
  "kernelspec": {
   "display_name": "work",
   "language": "python",
   "name": "python3"
  },
  "language_info": {
   "codemirror_mode": {
    "name": "ipython",
    "version": 3
   },
   "file_extension": ".py",
   "mimetype": "text/x-python",
   "name": "python",
   "nbconvert_exporter": "python",
   "pygments_lexer": "ipython3",
   "version": "3.9.13"
  }
 },
 "nbformat": 4,
 "nbformat_minor": 2
}
