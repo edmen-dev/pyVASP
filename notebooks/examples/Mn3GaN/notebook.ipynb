{
 "cells": [
  {
   "cell_type": "markdown",
   "metadata": {},
   "source": [
    "This notebook contains a few examples for bcc Fe to illustrate how VASP_job works\n",
    "\n",
    "- Note: They only show how to create the inputs (set_calculation()), to submit the job, use:\n",
    "   \n",
    "   self.run_vasp() or self.submit_job()"
   ]
  },
  {
   "cell_type": "code",
   "execution_count": 1,
   "metadata": {},
   "outputs": [
    {
     "data": {
      "application/vnd.jupyter.widget-view+json": {
       "model_id": "76b0b955cf1943d68f10b29a461681e9",
       "version_major": 2,
       "version_minor": 0
      },
      "text/plain": []
     },
     "metadata": {},
     "output_type": "display_data"
    }
   ],
   "source": [
    "from subprocess import run\n",
    "import numpy as np\n",
    "from VASP_job.code.main import VASP_job\n",
    "\n",
    "import pandas as pd\n",
    "import ase\n",
    "from ase.spacegroup import crystal\n",
    "\n",
    "# Define a custom formatting function for vectors in pandas\n",
    "format_vector = lambda vector: '[' + ', '.join(['{:.10f}'.format(x) for x in vector]) + ']'\n",
    "\n",
    "import nglview"
   ]
  },
  {
   "cell_type": "code",
   "execution_count": 2,
   "metadata": {},
   "outputs": [],
   "source": [
    "# set executable\n",
    "executable_path= \"/home/emendive/workbench/work/from_claix/codes/VASP/vasp.5.4.4-flag4/bin\"\n",
    "potential_path = \"/home/emendive/workbench/work/from_claix/codes/VASP/potentials/potpaw_PBE\""
   ]
  },
  {
   "cell_type": "markdown",
   "metadata": {},
   "source": [
    "# set calculation"
   ]
  },
  {
   "cell_type": "markdown",
   "metadata": {},
   "source": [
    "set crystal structure"
   ]
  },
  {
   "cell_type": "code",
   "execution_count": 3,
   "metadata": {},
   "outputs": [],
   "source": [
    "a = 3.95\n",
    "alpha = 90\n",
    "structure = crystal(('Ga', 'Mn', 'N'),\n",
    "                       basis=[(0.00, 0.00, 0.00), (0.00, 0.50, 0.50), (0.50, 0.50, 0.50)],\n",
    "                       spacegroup=221,\n",
    "                       cellpar=[a, a, a, alpha, alpha, alpha])"
   ]
  },
  {
   "cell_type": "markdown",
   "metadata": {},
   "source": [
    "set calculation"
   ]
  },
  {
   "cell_type": "code",
   "execution_count": 4,
   "metadata": {},
   "outputs": [],
   "source": [
    "# create vasp class\n",
    "vasp = VASP_job(verbose=\"low\", executable_path=executable_path, potential_path=potential_path, seed_mag=23)"
   ]
  },
  {
   "cell_type": "code",
   "execution_count": 5,
   "metadata": {},
   "outputs": [],
   "source": [
    "# set magdirs for a triangular AFM state\n",
    "value_of_m = 0.99\n",
    "\n",
    "Dtheta = 120 * np.pi/180\n",
    "theta = -Dtheta\n",
    "\n",
    "number_of_atoms = len(structure)\n",
    "magdirs   = []\n",
    "ms    = []\n",
    "# B_CONSTRs = []\n",
    "for i in range(number_of_atoms):\n",
    "   if 'Mn' == structure.get_chemical_symbols()[i]:\n",
    "      theta += Dtheta\n",
    "      magdirs.append([np.cos(theta), np.sin(theta), 0])\n",
    "      ms.append(value_of_m)\n",
    "      # B_CONSTRs.append([0.0, 0.0, 0.0])\n",
    "   else:\n",
    "      magdirs.append([0.0, 0.0, 0.0])\n",
    "      ms.append(1)\n",
    "      # B_CONSTRs.append([0.0, 0.0, 0.0])\n",
    "\n",
    "structure.new_array(\"magdirs\", magdirs, dtype=float)\n",
    "structure.new_array(\"ms\", ms, dtype=float)\n",
    "# structure.new_array(\"B_CONSTR\", B_CONSTR, dtype=float)"
   ]
  },
  {
   "cell_type": "code",
   "execution_count": 6,
   "metadata": {},
   "outputs": [],
   "source": [
    "# first prepare bfields (constraints)\n",
    "vasp.prepare_bfields(I_CONSTRAINED_M=\"4\", LAMBDA=\"1\")\n",
    "# set calculation, which creates all input files\n",
    "vasp.set_calculation(structure)"
   ]
  },
  {
   "cell_type": "markdown",
   "metadata": {},
   "source": [
    "visualize structure"
   ]
  },
  {
   "cell_type": "code",
   "execution_count": 7,
   "metadata": {},
   "outputs": [
    {
     "data": {
      "application/vnd.jupyter.widget-view+json": {
       "model_id": "19f1a1bfead049e79ebf5d017162110c",
       "version_major": 2,
       "version_minor": 0
      },
      "text/plain": [
       "NGLWidget()"
      ]
     },
     "metadata": {},
     "output_type": "display_data"
    }
   ],
   "source": [
    "view = nglview.show_ase(structure)\n",
    "view.add_unitcell()\n",
    "view"
   ]
  },
  {
   "cell_type": "markdown",
   "metadata": {},
   "source": [
    "visualize some inputs"
   ]
  },
  {
   "cell_type": "code",
   "execution_count": 8,
   "metadata": {},
   "outputs": [
    {
     "data": {
      "text/html": [
       "<div>\n",
       "<style scoped>\n",
       "    .dataframe tbody tr th:only-of-type {\n",
       "        vertical-align: middle;\n",
       "    }\n",
       "\n",
       "    .dataframe tbody tr th {\n",
       "        vertical-align: top;\n",
       "    }\n",
       "\n",
       "    .dataframe thead th {\n",
       "        text-align: right;\n",
       "    }\n",
       "</style>\n",
       "<table border=\"1\" class=\"dataframe\">\n",
       "  <thead>\n",
       "    <tr style=\"text-align: right;\">\n",
       "      <th></th>\n",
       "      <th>elements</th>\n",
       "      <th>positions</th>\n",
       "      <th>magdirs</th>\n",
       "      <th>ms</th>\n",
       "      <th>betahs</th>\n",
       "      <th>magmoms</th>\n",
       "      <th>B_CONSTRs</th>\n",
       "    </tr>\n",
       "  </thead>\n",
       "  <tbody>\n",
       "    <tr>\n",
       "      <th>0</th>\n",
       "      <td>Ga</td>\n",
       "      <td>(0.0, 0.0, 0.0)</td>\n",
       "      <td>(0.0, 0.0, 0.0)</td>\n",
       "      <td>1.00</td>\n",
       "      <td>inf</td>\n",
       "      <td>(0.0, 0.0, 0.0)</td>\n",
       "      <td>(0.0, 0.0, 0.0)</td>\n",
       "    </tr>\n",
       "    <tr>\n",
       "      <th>3</th>\n",
       "      <td>Mn</td>\n",
       "      <td>(1.975, 1.975, 0.0)</td>\n",
       "      <td>(-0.5000000000000004, -0.8660254037844384, 0.0)</td>\n",
       "      <td>0.99</td>\n",
       "      <td>100.0</td>\n",
       "      <td>(-0.5550793468129792, -0.8313408576381612, 0.0...</td>\n",
       "      <td>(0.0, 0.0, 0.0)</td>\n",
       "    </tr>\n",
       "    <tr>\n",
       "      <th>2</th>\n",
       "      <td>Mn</td>\n",
       "      <td>(1.975, 0.0, 1.975)</td>\n",
       "      <td>(-0.4999999999999998, 0.8660254037844387, 0.0)</td>\n",
       "      <td>0.99</td>\n",
       "      <td>100.0</td>\n",
       "      <td>(-0.6366653015755763, 0.7703770181056809, 0.03...</td>\n",
       "      <td>(0.0, 0.0, 0.0)</td>\n",
       "    </tr>\n",
       "    <tr>\n",
       "      <th>1</th>\n",
       "      <td>Mn</td>\n",
       "      <td>(0.0, 1.975, 1.975)</td>\n",
       "      <td>(1.0, 0.0, 0.0)</td>\n",
       "      <td>0.99</td>\n",
       "      <td>100.0</td>\n",
       "      <td>(0.9927164444766768, -0.039408363142266575, -0...</td>\n",
       "      <td>(0.0, 0.0, 0.0)</td>\n",
       "    </tr>\n",
       "    <tr>\n",
       "      <th>4</th>\n",
       "      <td>N</td>\n",
       "      <td>(1.975, 1.975, 1.975)</td>\n",
       "      <td>(0.0, 0.0, 0.0)</td>\n",
       "      <td>1.00</td>\n",
       "      <td>inf</td>\n",
       "      <td>(0.0, 0.0, 0.0)</td>\n",
       "      <td>(0.0, 0.0, 0.0)</td>\n",
       "    </tr>\n",
       "  </tbody>\n",
       "</table>\n",
       "</div>"
      ],
      "text/plain": [
       "  elements              positions  \\\n",
       "0       Ga        (0.0, 0.0, 0.0)   \n",
       "3       Mn    (1.975, 1.975, 0.0)   \n",
       "2       Mn    (1.975, 0.0, 1.975)   \n",
       "1       Mn    (0.0, 1.975, 1.975)   \n",
       "4        N  (1.975, 1.975, 1.975)   \n",
       "\n",
       "                                           magdirs    ms  betahs  \\\n",
       "0                                  (0.0, 0.0, 0.0)  1.00     inf   \n",
       "3  (-0.5000000000000004, -0.8660254037844384, 0.0)  0.99   100.0   \n",
       "2   (-0.4999999999999998, 0.8660254037844387, 0.0)  0.99   100.0   \n",
       "1                                  (1.0, 0.0, 0.0)  0.99   100.0   \n",
       "4                                  (0.0, 0.0, 0.0)  1.00     inf   \n",
       "\n",
       "                                             magmoms        B_CONSTRs  \n",
       "0                                    (0.0, 0.0, 0.0)  (0.0, 0.0, 0.0)  \n",
       "3  (-0.5550793468129792, -0.8313408576381612, 0.0...  (0.0, 0.0, 0.0)  \n",
       "2  (-0.6366653015755763, 0.7703770181056809, 0.03...  (0.0, 0.0, 0.0)  \n",
       "1  (0.9927164444766768, -0.039408363142266575, -0...  (0.0, 0.0, 0.0)  \n",
       "4                                    (0.0, 0.0, 0.0)  (0.0, 0.0, 0.0)  "
      ]
     },
     "execution_count": 8,
     "metadata": {},
     "output_type": "execute_result"
    }
   ],
   "source": [
    "vasp.df"
   ]
  },
  {
   "cell_type": "code",
   "execution_count": 9,
   "metadata": {},
   "outputs": [
    {
     "data": {
      "text/plain": [
       "0      [0.0000000000, 0.0000000000, 0.0000000000]\n",
       "3    [-0.5550793468, -0.8313408576, 0.0275553473]\n",
       "2     [-0.6366653016, 0.7703770181, 0.0343007834]\n",
       "1    [0.9927164445, -0.0394083631, -0.1138465712]\n",
       "4      [0.0000000000, 0.0000000000, 0.0000000000]\n",
       "Name: magmoms, dtype: object"
      ]
     },
     "execution_count": 9,
     "metadata": {},
     "output_type": "execute_result"
    }
   ],
   "source": [
    "df_magmoms = vasp.df[\"magmoms\"].apply(format_vector)\n",
    "df_magmoms"
   ]
  },
  {
   "cell_type": "code",
   "execution_count": 10,
   "metadata": {},
   "outputs": [
    {
     "name": "stdout",
     "output_type": "stream",
     "text": [
      "kpoints = 12 12 12\n",
      "\n",
      "lattice vectors =\n",
      " [[3.95 0.   0.  ]\n",
      " [0.   3.95 0.  ]\n",
      " [0.   0.   3.95]]\n",
      "\n",
      "species = ['Ga', 'Mn', 'N']\n",
      "\n",
      "elements = 0    Ga\n",
      "3    Mn\n",
      "2    Mn\n",
      "1    Mn\n",
      "4     N\n",
      "Name: elements, dtype: object\n"
     ]
    }
   ],
   "source": [
    "print(\"kpoints =\",vasp.structure.kpoints)\n",
    "print(\"\\nlattice vectors =\\n\",vasp.structure.lattice_vectors)\n",
    "print(\"\\nspecies =\",vasp.structure.species)\n",
    "print(\"\\nelements =\",vasp.structure.elements)"
   ]
  }
 ],
 "metadata": {
  "kernelspec": {
   "display_name": "work",
   "language": "python",
   "name": "python3"
  },
  "language_info": {
   "codemirror_mode": {
    "name": "ipython",
    "version": 3
   },
   "file_extension": ".py",
   "mimetype": "text/x-python",
   "name": "python",
   "nbconvert_exporter": "python",
   "pygments_lexer": "ipython3",
   "version": "3.9.13"
  }
 },
 "nbformat": 4,
 "nbformat_minor": 2
}
