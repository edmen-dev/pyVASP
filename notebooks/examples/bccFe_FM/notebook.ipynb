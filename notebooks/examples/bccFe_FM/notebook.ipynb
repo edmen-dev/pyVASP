{
 "cells": [
  {
   "cell_type": "markdown",
   "metadata": {},
   "source": [
    "This notebook contains a few examples for bcc Fe to illustrate how VASP_job works\n",
    "\n",
    "- Note: They only show how to create the inputs (set_calculation()), to submit the job, use:\n",
    "   \n",
    "   self.run_vasp()"
   ]
  },
  {
   "cell_type": "code",
   "execution_count": 1,
   "metadata": {},
   "outputs": [],
   "source": [
    "import os\n",
    "from subprocess import run\n",
    "import numpy as np\n",
    "from VASP_job.code.main import VASP_job\n",
    "\n",
    "import pandas as pd\n",
    "import ase\n",
    "from ase.spacegroup import crystal\n",
    "\n",
    "# Define a custom formatting function for vectors in pandas\n",
    "format_vector = lambda vector: '[' + ', '.join(['{:.10f}'.format(x) for x in vector]) + ']'"
   ]
  },
  {
   "cell_type": "code",
   "execution_count": 2,
   "metadata": {},
   "outputs": [],
   "source": [
    "dir_0 = os.getcwd()"
   ]
  },
  {
   "cell_type": "code",
   "execution_count": 3,
   "metadata": {},
   "outputs": [],
   "source": [
    "# set executable\n",
    "executable_path= \"/home/emendive/workbench/work/from_claix/codes/VASP/vasp.5.4.4-flag4/bin\"\n",
    "potential_path = \"/home/emendive/workbench/work/from_claix/codes/VASP/potentials/potpaw_PBE\""
   ]
  },
  {
   "cell_type": "markdown",
   "metadata": {},
   "source": [
    "# simple FM bcc Fe"
   ]
  },
  {
   "cell_type": "markdown",
   "metadata": {},
   "source": [
    "set working directory"
   ]
  },
  {
   "cell_type": "code",
   "execution_count": 4,
   "metadata": {},
   "outputs": [],
   "source": [
    "cwd = dir_0 + \"/FM\"\n",
    "if not os.path.exists(cwd):\n",
    "   run(\"mkdir \" + cwd, shell=True)"
   ]
  },
  {
   "cell_type": "markdown",
   "metadata": {},
   "source": [
    "set crystal structure"
   ]
  },
  {
   "cell_type": "code",
   "execution_count": 5,
   "metadata": {},
   "outputs": [],
   "source": [
    "a = 2.79 # A\n",
    "alpha = 90\n",
    "structure = crystal(('Fe'),\n",
    "                       basis=[(0.00, 0.00, 0.00)],\n",
    "                       spacegroup=229,\n",
    "                       cellpar=[a, a, a, alpha, alpha, alpha])"
   ]
  },
  {
   "cell_type": "markdown",
   "metadata": {},
   "source": [
    "set calculation"
   ]
  },
  {
   "cell_type": "code",
   "execution_count": 6,
   "metadata": {},
   "outputs": [],
   "source": [
    "# create vasp class\n",
    "vasp = VASP_job(verbose=\"low\", executable_path=executable_path, potential_path=potential_path)\n",
    "\n",
    "# update current working directory\n",
    "vasp.io.cwd = cwd"
   ]
  },
  {
   "cell_type": "code",
   "execution_count": 7,
   "metadata": {},
   "outputs": [],
   "source": [
    "# set magdirs for a FM state\n",
    "number_of_atoms = len(structure)\n",
    "magdirs   = []\n",
    "for i in range(number_of_atoms):\n",
    "   if 'Fe' == structure.get_chemical_symbols()[i]:\n",
    "      magdirs.append([0, 0, 1])\n",
    "\n",
    "structure.new_array(\"magdirs\", magdirs, dtype=float)"
   ]
  },
  {
   "cell_type": "code",
   "execution_count": 8,
   "metadata": {},
   "outputs": [],
   "source": [
    "# set calculation, which creates all input files\n",
    "vasp.set_calculation(structure)"
   ]
  },
  {
   "cell_type": "markdown",
   "metadata": {},
   "source": [
    "visualize some inputs"
   ]
  },
  {
   "cell_type": "code",
   "execution_count": 9,
   "metadata": {},
   "outputs": [
    {
     "data": {
      "text/html": [
       "<div>\n",
       "<style scoped>\n",
       "    .dataframe tbody tr th:only-of-type {\n",
       "        vertical-align: middle;\n",
       "    }\n",
       "\n",
       "    .dataframe tbody tr th {\n",
       "        vertical-align: top;\n",
       "    }\n",
       "\n",
       "    .dataframe thead th {\n",
       "        text-align: right;\n",
       "    }\n",
       "</style>\n",
       "<table border=\"1\" class=\"dataframe\">\n",
       "  <thead>\n",
       "    <tr style=\"text-align: right;\">\n",
       "      <th></th>\n",
       "      <th>elements</th>\n",
       "      <th>positions</th>\n",
       "      <th>magdirs</th>\n",
       "      <th>ms</th>\n",
       "      <th>betahs</th>\n",
       "      <th>magmoms</th>\n",
       "      <th>B_CONSTRs</th>\n",
       "    </tr>\n",
       "  </thead>\n",
       "  <tbody>\n",
       "    <tr>\n",
       "      <th>0</th>\n",
       "      <td>Fe</td>\n",
       "      <td>[0.0, 0.0, 0.0]</td>\n",
       "      <td>[0.0, 0.0, 1.0]</td>\n",
       "      <td>1.0</td>\n",
       "      <td>inf</td>\n",
       "      <td>[0.0, 0.0, 1.0]</td>\n",
       "      <td>[0.0, 0.0, 0.0]</td>\n",
       "    </tr>\n",
       "    <tr>\n",
       "      <th>1</th>\n",
       "      <td>Fe</td>\n",
       "      <td>[1.395, 1.395, 1.395]</td>\n",
       "      <td>[0.0, 0.0, 1.0]</td>\n",
       "      <td>1.0</td>\n",
       "      <td>inf</td>\n",
       "      <td>[0.0, 0.0, 1.0]</td>\n",
       "      <td>[0.0, 0.0, 0.0]</td>\n",
       "    </tr>\n",
       "  </tbody>\n",
       "</table>\n",
       "</div>"
      ],
      "text/plain": [
       "  elements              positions          magdirs   ms  betahs  \\\n",
       "0       Fe        [0.0, 0.0, 0.0]  [0.0, 0.0, 1.0]  1.0     inf   \n",
       "1       Fe  [1.395, 1.395, 1.395]  [0.0, 0.0, 1.0]  1.0     inf   \n",
       "\n",
       "           magmoms        B_CONSTRs  \n",
       "0  [0.0, 0.0, 1.0]  [0.0, 0.0, 0.0]  \n",
       "1  [0.0, 0.0, 1.0]  [0.0, 0.0, 0.0]  "
      ]
     },
     "execution_count": 9,
     "metadata": {},
     "output_type": "execute_result"
    }
   ],
   "source": [
    "vasp.df"
   ]
  },
  {
   "cell_type": "code",
   "execution_count": 10,
   "metadata": {},
   "outputs": [
    {
     "data": {
      "text/plain": [
       "0    [0.0000000000, 0.0000000000, 1.0000000000]\n",
       "1    [0.0000000000, 0.0000000000, 1.0000000000]\n",
       "Name: magmoms, dtype: object"
      ]
     },
     "execution_count": 10,
     "metadata": {},
     "output_type": "execute_result"
    }
   ],
   "source": [
    "df_magmoms = vasp.df[\"magmoms\"].apply(format_vector)\n",
    "df_magmoms"
   ]
  },
  {
   "cell_type": "code",
   "execution_count": 11,
   "metadata": {},
   "outputs": [
    {
     "name": "stdout",
     "output_type": "stream",
     "text": [
      "kpoints = 12 12 12\n",
      "\n",
      "lattice vectors =\n",
      " [[2.79 0.   0.  ]\n",
      " [0.   2.79 0.  ]\n",
      " [0.   0.   2.79]]\n",
      "\n",
      "species = ['Fe']\n",
      "\n",
      "elements = ['Fe', 'Fe']\n"
     ]
    }
   ],
   "source": [
    "print(\"kpoints =\",vasp.structure.kpoints)\n",
    "print(\"\\nlattice vectors =\\n\",vasp.structure.lattice_vectors)\n",
    "print(\"\\nspecies =\",vasp.structure.species)\n",
    "print(\"\\nelements =\",vasp.structure.elements)"
   ]
  },
  {
   "cell_type": "markdown",
   "metadata": {},
   "source": [
    "# FM bcc Fe, using a primitive cell, and relax structure"
   ]
  },
  {
   "cell_type": "markdown",
   "metadata": {},
   "source": [
    "set working directory"
   ]
  },
  {
   "cell_type": "code",
   "execution_count": 12,
   "metadata": {},
   "outputs": [],
   "source": [
    "cwd = dir_0 + \"/FM_primitive_cell_relax\"\n",
    "if not os.path.exists(cwd):\n",
    "   run(\"mkdir \" + cwd, shell=True)"
   ]
  },
  {
   "cell_type": "markdown",
   "metadata": {},
   "source": [
    "set crystal structure"
   ]
  },
  {
   "cell_type": "code",
   "execution_count": 13,
   "metadata": {},
   "outputs": [],
   "source": [
    "a = 2.79 # A\n",
    "alpha = 90\n",
    "structure = crystal(('Fe'),\n",
    "                       basis=[(0.00, 0.00, 0.00)],\n",
    "                       spacegroup=229,\n",
    "                       primitive_cell=True,\n",
    "                       cellpar=[a, a, a, alpha, alpha, alpha])"
   ]
  },
  {
   "cell_type": "markdown",
   "metadata": {},
   "source": [
    "set calculation"
   ]
  },
  {
   "cell_type": "code",
   "execution_count": 14,
   "metadata": {},
   "outputs": [],
   "source": [
    "# create vasp class\n",
    "vasp = VASP_job(verbose=\"low\", executable_path=executable_path, potential_path=potential_path)\n",
    "\n",
    "# update current working directory\n",
    "vasp.io.cwd = cwd"
   ]
  },
  {
   "cell_type": "code",
   "execution_count": 15,
   "metadata": {},
   "outputs": [],
   "source": [
    "# Set magdirs for a FM state\n",
    "number_of_atoms = len(structure)\n",
    "magdirs   = []\n",
    "for i in range(number_of_atoms):\n",
    "   if 'Fe' == structure.get_chemical_symbols()[i]:\n",
    "      magdirs.append([0, 0, 1])\n",
    "\n",
    "structure.new_array(\"magdirs\", magdirs, dtype=float)"
   ]
  },
  {
   "cell_type": "code",
   "execution_count": 16,
   "metadata": {},
   "outputs": [],
   "source": [
    "# first prepare relaxation\n",
    "vasp.prepare_relaxation(ISIF=\"3\")\n",
    "# set calculation, which creates all input files\n",
    "vasp.set_calculation(structure)"
   ]
  },
  {
   "cell_type": "markdown",
   "metadata": {},
   "source": [
    "visualize some inputs"
   ]
  },
  {
   "cell_type": "code",
   "execution_count": 17,
   "metadata": {},
   "outputs": [
    {
     "data": {
      "text/html": [
       "<div>\n",
       "<style scoped>\n",
       "    .dataframe tbody tr th:only-of-type {\n",
       "        vertical-align: middle;\n",
       "    }\n",
       "\n",
       "    .dataframe tbody tr th {\n",
       "        vertical-align: top;\n",
       "    }\n",
       "\n",
       "    .dataframe thead th {\n",
       "        text-align: right;\n",
       "    }\n",
       "</style>\n",
       "<table border=\"1\" class=\"dataframe\">\n",
       "  <thead>\n",
       "    <tr style=\"text-align: right;\">\n",
       "      <th></th>\n",
       "      <th>elements</th>\n",
       "      <th>positions</th>\n",
       "      <th>magdirs</th>\n",
       "      <th>ms</th>\n",
       "      <th>betahs</th>\n",
       "      <th>magmoms</th>\n",
       "      <th>B_CONSTRs</th>\n",
       "    </tr>\n",
       "  </thead>\n",
       "  <tbody>\n",
       "    <tr>\n",
       "      <th>0</th>\n",
       "      <td>Fe</td>\n",
       "      <td>[0.0, 0.0, 0.0]</td>\n",
       "      <td>[0.0, 0.0, 1.0]</td>\n",
       "      <td>1.0</td>\n",
       "      <td>inf</td>\n",
       "      <td>[0.0, 0.0, 1.0]</td>\n",
       "      <td>[0.0, 0.0, 0.0]</td>\n",
       "    </tr>\n",
       "  </tbody>\n",
       "</table>\n",
       "</div>"
      ],
      "text/plain": [
       "  elements        positions          magdirs   ms  betahs          magmoms  \\\n",
       "0       Fe  [0.0, 0.0, 0.0]  [0.0, 0.0, 1.0]  1.0     inf  [0.0, 0.0, 1.0]   \n",
       "\n",
       "         B_CONSTRs  \n",
       "0  [0.0, 0.0, 0.0]  "
      ]
     },
     "execution_count": 17,
     "metadata": {},
     "output_type": "execute_result"
    }
   ],
   "source": [
    "vasp.df"
   ]
  },
  {
   "cell_type": "code",
   "execution_count": 18,
   "metadata": {},
   "outputs": [
    {
     "data": {
      "text/plain": [
       "0    [0.0000000000, 0.0000000000, 1.0000000000]\n",
       "Name: magmoms, dtype: object"
      ]
     },
     "execution_count": 18,
     "metadata": {},
     "output_type": "execute_result"
    }
   ],
   "source": [
    "df_magmoms = vasp.df[\"magmoms\"].apply(format_vector)\n",
    "df_magmoms"
   ]
  },
  {
   "cell_type": "code",
   "execution_count": 19,
   "metadata": {},
   "outputs": [
    {
     "name": "stdout",
     "output_type": "stream",
     "text": [
      "kpoints = 12 12 12\n",
      "\n",
      "lattice vectors =\n",
      " [[-1.395  1.395  1.395]\n",
      " [ 1.395 -1.395  1.395]\n",
      " [ 1.395  1.395 -1.395]]\n",
      "\n",
      "species = ['Fe']\n",
      "\n",
      "elements = ['Fe']\n"
     ]
    }
   ],
   "source": [
    "print(\"kpoints =\",vasp.structure.kpoints)\n",
    "print(\"\\nlattice vectors =\\n\",vasp.structure.lattice_vectors)\n",
    "print(\"\\nspecies =\",vasp.structure.species)\n",
    "print(\"\\nelements =\",vasp.structure.elements)"
   ]
  },
  {
   "cell_type": "markdown",
   "metadata": {},
   "source": [
    "# AFM bcc Fe and change kpoints and ntasks"
   ]
  },
  {
   "cell_type": "markdown",
   "metadata": {},
   "source": [
    "set working directory"
   ]
  },
  {
   "cell_type": "code",
   "execution_count": 20,
   "metadata": {},
   "outputs": [],
   "source": [
    "cwd = dir_0 + \"/AFM_kpoints10x10x10_ntasks80\"\n",
    "if not os.path.exists(cwd):\n",
    "   run(\"mkdir \" + cwd, shell=True)"
   ]
  },
  {
   "cell_type": "markdown",
   "metadata": {},
   "source": [
    "set crystal structure"
   ]
  },
  {
   "cell_type": "code",
   "execution_count": 21,
   "metadata": {},
   "outputs": [],
   "source": [
    "a = 2.79 # A\n",
    "alpha = 90\n",
    "structure = crystal(('Fe'),\n",
    "                       basis=[(0.00, 0.00, 0.00)],\n",
    "                       spacegroup=229,\n",
    "                       cellpar=[a, a, a, alpha, alpha, alpha])"
   ]
  },
  {
   "cell_type": "markdown",
   "metadata": {},
   "source": [
    "set calculation"
   ]
  },
  {
   "cell_type": "code",
   "execution_count": 22,
   "metadata": {},
   "outputs": [],
   "source": [
    "# create vasp class\n",
    "vasp = VASP_job(verbose=\"low\", executable_path=executable_path, potential_path=potential_path)\n",
    "\n",
    "# update current working directory\n",
    "vasp.io.cwd = cwd\n",
    "\n",
    "# update kpoints\n",
    "vasp.structure.kpoints = \"10 10 10\""
   ]
  },
  {
   "cell_type": "code",
   "execution_count": 23,
   "metadata": {},
   "outputs": [],
   "source": [
    "# Set magdirs for a AFM state\n",
    "magdirs   = []\n",
    "magdirs.append([0, 0, 1])\n",
    "magdirs.append([0, 0, -1])\n",
    "\n",
    "structure.new_array(\"magdirs\", magdirs, dtype=float)"
   ]
  },
  {
   "cell_type": "code",
   "execution_count": 24,
   "metadata": {},
   "outputs": [],
   "source": [
    "# first prepare relaxation\n",
    "vasp.prepare_relaxation(ISIF=\"3\")\n",
    "# set calculation, which creates all input files\n",
    "vasp.set_calculation(structure, ntasks=80)"
   ]
  },
  {
   "cell_type": "markdown",
   "metadata": {},
   "source": [
    "visualize some inputs"
   ]
  },
  {
   "cell_type": "code",
   "execution_count": 25,
   "metadata": {},
   "outputs": [
    {
     "data": {
      "text/html": [
       "<div>\n",
       "<style scoped>\n",
       "    .dataframe tbody tr th:only-of-type {\n",
       "        vertical-align: middle;\n",
       "    }\n",
       "\n",
       "    .dataframe tbody tr th {\n",
       "        vertical-align: top;\n",
       "    }\n",
       "\n",
       "    .dataframe thead th {\n",
       "        text-align: right;\n",
       "    }\n",
       "</style>\n",
       "<table border=\"1\" class=\"dataframe\">\n",
       "  <thead>\n",
       "    <tr style=\"text-align: right;\">\n",
       "      <th></th>\n",
       "      <th>elements</th>\n",
       "      <th>positions</th>\n",
       "      <th>magdirs</th>\n",
       "      <th>ms</th>\n",
       "      <th>betahs</th>\n",
       "      <th>magmoms</th>\n",
       "      <th>B_CONSTRs</th>\n",
       "    </tr>\n",
       "  </thead>\n",
       "  <tbody>\n",
       "    <tr>\n",
       "      <th>0</th>\n",
       "      <td>Fe</td>\n",
       "      <td>[0.0, 0.0, 0.0]</td>\n",
       "      <td>[0.0, 0.0, 1.0]</td>\n",
       "      <td>1.0</td>\n",
       "      <td>inf</td>\n",
       "      <td>[0.0, 0.0, 1.0]</td>\n",
       "      <td>[0.0, 0.0, 0.0]</td>\n",
       "    </tr>\n",
       "    <tr>\n",
       "      <th>1</th>\n",
       "      <td>Fe</td>\n",
       "      <td>[1.395, 1.395, 1.395]</td>\n",
       "      <td>[0.0, 0.0, -1.0]</td>\n",
       "      <td>1.0</td>\n",
       "      <td>inf</td>\n",
       "      <td>[0.0, 0.0, -1.0]</td>\n",
       "      <td>[0.0, 0.0, 0.0]</td>\n",
       "    </tr>\n",
       "  </tbody>\n",
       "</table>\n",
       "</div>"
      ],
      "text/plain": [
       "  elements              positions           magdirs   ms  betahs  \\\n",
       "0       Fe        [0.0, 0.0, 0.0]   [0.0, 0.0, 1.0]  1.0     inf   \n",
       "1       Fe  [1.395, 1.395, 1.395]  [0.0, 0.0, -1.0]  1.0     inf   \n",
       "\n",
       "            magmoms        B_CONSTRs  \n",
       "0   [0.0, 0.0, 1.0]  [0.0, 0.0, 0.0]  \n",
       "1  [0.0, 0.0, -1.0]  [0.0, 0.0, 0.0]  "
      ]
     },
     "execution_count": 25,
     "metadata": {},
     "output_type": "execute_result"
    }
   ],
   "source": [
    "vasp.df"
   ]
  },
  {
   "cell_type": "code",
   "execution_count": 26,
   "metadata": {},
   "outputs": [
    {
     "data": {
      "text/plain": [
       "0     [0.0000000000, 0.0000000000, 1.0000000000]\n",
       "1    [0.0000000000, 0.0000000000, -1.0000000000]\n",
       "Name: magmoms, dtype: object"
      ]
     },
     "execution_count": 26,
     "metadata": {},
     "output_type": "execute_result"
    }
   ],
   "source": [
    "df_magmoms = vasp.df[\"magmoms\"].apply(format_vector)\n",
    "df_magmoms"
   ]
  },
  {
   "cell_type": "code",
   "execution_count": 27,
   "metadata": {},
   "outputs": [
    {
     "name": "stdout",
     "output_type": "stream",
     "text": [
      "kpoints = 10 10 10\n",
      "\n",
      "lattice vectors =\n",
      " [[2.79 0.   0.  ]\n",
      " [0.   2.79 0.  ]\n",
      " [0.   0.   2.79]]\n",
      "\n",
      "species = ['Fe']\n",
      "\n",
      "elements = ['Fe', 'Fe']\n"
     ]
    }
   ],
   "source": [
    "print(\"kpoints =\",vasp.structure.kpoints)\n",
    "print(\"\\nlattice vectors =\\n\",vasp.structure.lattice_vectors)\n",
    "print(\"\\nspecies =\",vasp.structure.species)\n",
    "print(\"\\nelements =\",vasp.structure.elements)"
   ]
  },
  {
   "cell_type": "code",
   "execution_count": 28,
   "metadata": {},
   "outputs": [
    {
     "name": "stdout",
     "output_type": "stream",
     "text": [
      "   SYSTEM = job\n",
      "   PREC = Accurate\n",
      "   ALGO = Fast\n",
      "   ISTART = 0\n",
      "   ICHARG = 2\n",
      "   LREAL = .FALSE.\n",
      "   LWAVE = .FALSE.\n",
      "   LCHARG = .TRUE.\n",
      "   LORBIT = 11\n",
      "   ISMEAR = 1\n",
      "   SIGMA = 0.005\n",
      "   ISPIN = 2\n",
      "   ENCUT = 500\n",
      "   EDIFF = 1e-6\n",
      "   NELM = 200\n",
      "   LMAXMIX = 6\n",
      "   LNONCOLLINEAR = .TRUE.\n",
      "   NPAR = 8\n",
      "   ISYM = 2\n"
     ]
    }
   ],
   "source": [
    "vasp.io.write_fields(vasp.io.INCAR)"
   ]
  },
  {
   "cell_type": "code",
   "execution_count": 29,
   "metadata": {},
   "outputs": [
    {
     "name": "stdout",
     "output_type": "stream",
     "text": [
      "   job_name = job\n",
      "   partition = p.cmfe\n",
      "   nodes = 2\n",
      "   ntasks = 40\n",
      "   constraint = '[swi1|swi2|swi3|swi4|swi5|swi6|swi7|swe1|swe2|swe3|swe4|swe5|swe6|swe7]'\n",
      "   time = 180\n",
      "   mem_per_cpu = 3GB\n",
      "   output = mpi-out.%j\n",
      "   error = mpi-err.%j\n",
      "   get_user_env = L\n"
     ]
    }
   ],
   "source": [
    "vasp.io.write_fields(vasp.io.job_parameters)"
   ]
  },
  {
   "cell_type": "markdown",
   "metadata": {},
   "source": [
    "# DLM bcc Fe"
   ]
  },
  {
   "cell_type": "markdown",
   "metadata": {},
   "source": [
    "set working directory"
   ]
  },
  {
   "cell_type": "code",
   "execution_count": 30,
   "metadata": {},
   "outputs": [],
   "source": [
    "cwd = dir_0 + \"/DLM\"\n",
    "if not os.path.exists(cwd):\n",
    "   run(\"mkdir \" + cwd, shell=True)"
   ]
  },
  {
   "cell_type": "markdown",
   "metadata": {},
   "source": [
    "set crystal structure"
   ]
  },
  {
   "cell_type": "code",
   "execution_count": 31,
   "metadata": {},
   "outputs": [],
   "source": [
    "a = 2.79 # A\n",
    "alpha = 90\n",
    "structure = crystal(('Fe'),\n",
    "                       basis=[(0.00, 0.00, 0.00)],\n",
    "                       spacegroup=229,\n",
    "                       cellpar=[a, a, a, alpha, alpha, alpha])"
   ]
  },
  {
   "cell_type": "markdown",
   "metadata": {},
   "source": [
    "set calculation"
   ]
  },
  {
   "cell_type": "code",
   "execution_count": 32,
   "metadata": {},
   "outputs": [],
   "source": [
    "# create vasp class\n",
    "vasp = VASP_job(verbose=\"low\", executable_path=executable_path, potential_path=potential_path)\n",
    "\n",
    "# update current working directory\n",
    "vasp.io.cwd = cwd"
   ]
  },
  {
   "cell_type": "code",
   "execution_count": 33,
   "metadata": {},
   "outputs": [],
   "source": [
    "value_of_m = 0.0\n",
    "\n",
    "number_of_atoms = len(structure)\n",
    "magdirs   = []\n",
    "ms    = []\n",
    "for i in range(number_of_atoms):\n",
    "   if 'Fe' == structure.get_chemical_symbols()[i]:\n",
    "      magdirs.append([0, 0, 1])\n",
    "      ms.append(value_of_m)\n",
    "\n",
    "structure.new_array(\"magdirs\", magdirs, dtype=float)\n",
    "structure.new_array(\"ms\", ms, dtype=float)"
   ]
  },
  {
   "cell_type": "code",
   "execution_count": 34,
   "metadata": {},
   "outputs": [],
   "source": [
    "# first prepare bfields (constraints)\n",
    "vasp.prepare_bfields(I_CONSTRAINED=\"4\", LAMBDA=\"1\")\n",
    "# set calculation, which creates all input files\n",
    "vasp.set_calculation(structure)"
   ]
  },
  {
   "cell_type": "markdown",
   "metadata": {},
   "source": [
    "visualize some inputs"
   ]
  },
  {
   "cell_type": "code",
   "execution_count": 35,
   "metadata": {},
   "outputs": [
    {
     "data": {
      "text/html": [
       "<div>\n",
       "<style scoped>\n",
       "    .dataframe tbody tr th:only-of-type {\n",
       "        vertical-align: middle;\n",
       "    }\n",
       "\n",
       "    .dataframe tbody tr th {\n",
       "        vertical-align: top;\n",
       "    }\n",
       "\n",
       "    .dataframe thead th {\n",
       "        text-align: right;\n",
       "    }\n",
       "</style>\n",
       "<table border=\"1\" class=\"dataframe\">\n",
       "  <thead>\n",
       "    <tr style=\"text-align: right;\">\n",
       "      <th></th>\n",
       "      <th>elements</th>\n",
       "      <th>positions</th>\n",
       "      <th>magdirs</th>\n",
       "      <th>ms</th>\n",
       "      <th>betahs</th>\n",
       "      <th>magmoms</th>\n",
       "      <th>B_CONSTRs</th>\n",
       "    </tr>\n",
       "  </thead>\n",
       "  <tbody>\n",
       "    <tr>\n",
       "      <th>0</th>\n",
       "      <td>Fe</td>\n",
       "      <td>[0.0, 0.0, 0.0]</td>\n",
       "      <td>[0.0, 0.0, 1.0]</td>\n",
       "      <td>0.0</td>\n",
       "      <td>0.0</td>\n",
       "      <td>[-0.9153871321340852, 0.3803516855521698, -0.1...</td>\n",
       "      <td>[0.0, 0.0, 0.0]</td>\n",
       "    </tr>\n",
       "    <tr>\n",
       "      <th>1</th>\n",
       "      <td>Fe</td>\n",
       "      <td>[1.395, 1.395, 1.395]</td>\n",
       "      <td>[0.0, 0.0, 1.0]</td>\n",
       "      <td>0.0</td>\n",
       "      <td>0.0</td>\n",
       "      <td>[-0.4965460492534907, -0.8388998726939831, -0....</td>\n",
       "      <td>[0.0, 0.0, 0.0]</td>\n",
       "    </tr>\n",
       "  </tbody>\n",
       "</table>\n",
       "</div>"
      ],
      "text/plain": [
       "  elements              positions          magdirs   ms  betahs  \\\n",
       "0       Fe        [0.0, 0.0, 0.0]  [0.0, 0.0, 1.0]  0.0     0.0   \n",
       "1       Fe  [1.395, 1.395, 1.395]  [0.0, 0.0, 1.0]  0.0     0.0   \n",
       "\n",
       "                                             magmoms        B_CONSTRs  \n",
       "0  [-0.9153871321340852, 0.3803516855521698, -0.1...  [0.0, 0.0, 0.0]  \n",
       "1  [-0.4965460492534907, -0.8388998726939831, -0....  [0.0, 0.0, 0.0]  "
      ]
     },
     "execution_count": 35,
     "metadata": {},
     "output_type": "execute_result"
    }
   ],
   "source": [
    "vasp.df"
   ]
  },
  {
   "cell_type": "code",
   "execution_count": 36,
   "metadata": {},
   "outputs": [
    {
     "data": {
      "text/plain": [
       "0     [-0.9153871321, 0.3803516856, -0.1319052449]\n",
       "1    [-0.4965460493, -0.8388998727, -0.2229103510]\n",
       "Name: magmoms, dtype: object"
      ]
     },
     "execution_count": 36,
     "metadata": {},
     "output_type": "execute_result"
    }
   ],
   "source": [
    "df_magmoms = vasp.df[\"magmoms\"].apply(format_vector)\n",
    "df_magmoms"
   ]
  },
  {
   "cell_type": "code",
   "execution_count": 37,
   "metadata": {},
   "outputs": [
    {
     "name": "stdout",
     "output_type": "stream",
     "text": [
      "kpoints = 12 12 12\n",
      "\n",
      "lattice vectors =\n",
      " [[2.79 0.   0.  ]\n",
      " [0.   2.79 0.  ]\n",
      " [0.   0.   2.79]]\n",
      "\n",
      "species = ['Fe']\n",
      "\n",
      "elements = ['Fe', 'Fe']\n"
     ]
    }
   ],
   "source": [
    "print(\"kpoints =\",vasp.structure.kpoints)\n",
    "print(\"\\nlattice vectors =\\n\",vasp.structure.lattice_vectors)\n",
    "print(\"\\nspecies =\",vasp.structure.species)\n",
    "print(\"\\nelements =\",vasp.structure.elements)"
   ]
  },
  {
   "cell_type": "markdown",
   "metadata": {},
   "source": [
    "# Show default values"
   ]
  },
  {
   "cell_type": "code",
   "execution_count": 38,
   "metadata": {},
   "outputs": [
    {
     "name": "stdout",
     "output_type": "stream",
     "text": [
      "\n",
      "Your executable is:\n",
      "   /home/emendive/workbench/work/from_claix/codes/VASP/vasp.5.4.4-flag4/bin/vasp_ncl\n",
      "\n",
      "Your current working directory (cwd) is:\n",
      "   /home/emendive/workbench/devel/gitclones/VASP_job/notebooks/examples/bccFe_FM/\n",
      "\n",
      "Your bfields and relaxation flags are:\n",
      "   bfields=False\n",
      "   relaxation=False\n",
      "\n",
      "Your default INCAR parameters are:\n",
      "   SYSTEM = job\n",
      "   PREC = Accurate\n",
      "   ALGO = Fast\n",
      "   ISTART = 0\n",
      "   ICHARG = 2\n",
      "   LREAL = .FALSE.\n",
      "   LWAVE = .FALSE.\n",
      "   LCHARG = .TRUE.\n",
      "   LORBIT = 11\n",
      "   ISMEAR = 1\n",
      "   SIGMA = 0.005\n",
      "   ISPIN = 2\n",
      "   ENCUT = 500\n",
      "   EDIFF = 1e-6\n",
      "   NELM = 200\n",
      "   LMAXMIX = 6\n",
      "   LNONCOLLINEAR = .TRUE.\n",
      "   NPAR = 5\n",
      "   ISYM = 2\n",
      "\n",
      "Your default INCAR parameters for constraining fields are:\n",
      "   I_CONSTRAINED = 4\n",
      "   LAMBDA = 1\n",
      "   B_MIX = 1.0\n",
      "   B_ref = 0.02\n",
      "   N_MIX = 4\n",
      "   E_PENALTY_MAX = 3.8\n",
      "   LAMBDA_FIELD_MAX = 1e-3\n",
      "\n",
      "Your default INCAR parameters for relaxation are:\n",
      "   IBRION = 2\n",
      "   ISIF = 3\n",
      "   NSW = 100\n",
      "   EDIFFG = -0.01\n",
      "\n",
      "Your default RWIGS parameters are:\n",
      "   N = 0.979\n",
      "   Mn = 1.323\n",
      "   Fe = 1.164\n",
      "   Ni = 1.058\n",
      "   Ga = 1.217\n",
      "\n",
      "Your default potentials are:\n",
      "   N = N\n",
      "   Mn = Mn_pv\n",
      "   Fe = Fe_pv\n",
      "   Ni = Ni_pv\n",
      "   Ga = Ga_d\n"
     ]
    }
   ],
   "source": [
    "# create vasp class\n",
    "vasp = VASP_job(verbose=\"high\", executable_path=executable_path, potential_path=potential_path)"
   ]
  }
 ],
 "metadata": {
  "kernelspec": {
   "display_name": "work",
   "language": "python",
   "name": "python3"
  },
  "language_info": {
   "codemirror_mode": {
    "name": "ipython",
    "version": 3
   },
   "file_extension": ".py",
   "mimetype": "text/x-python",
   "name": "python",
   "nbconvert_exporter": "python",
   "pygments_lexer": "ipython3",
   "version": "3.9.13"
  }
 },
 "nbformat": 4,
 "nbformat_minor": 2
}
