{
 "cells": [
  {
   "cell_type": "markdown",
   "metadata": {},
   "source": [
    "This notebook contains a few examples for bcc Fe to illustrate how VASP_job works\n",
    "\n",
    "- Note: They only show how to create the inputs (set_calculation()), to submit the job, use:\n",
    "   \n",
    "   self.run_vasp() or self.submit_job()"
   ]
  },
  {
   "cell_type": "code",
   "execution_count": 1,
   "metadata": {},
   "outputs": [
    {
     "data": {
      "application/vnd.jupyter.widget-view+json": {
       "model_id": "9c1833d1bb9d4e1298cc011d2a413570",
       "version_major": 2,
       "version_minor": 0
      },
      "text/plain": []
     },
     "metadata": {},
     "output_type": "display_data"
    }
   ],
   "source": [
    "import os\n",
    "from subprocess import run\n",
    "import numpy as np\n",
    "from VASP_job.code.main import VASP_job\n",
    "\n",
    "import pandas as pd\n",
    "import ase\n",
    "from ase.spacegroup import crystal\n",
    "\n",
    "# Define a custom formatting function for vectors in pandas\n",
    "format_vector = lambda vector: '[' + ', '.join(['{:.10f}'.format(x) for x in vector]) + ']'\n",
    "\n",
    "import nglview"
   ]
  },
  {
   "cell_type": "code",
   "execution_count": 2,
   "metadata": {},
   "outputs": [],
   "source": [
    "dir_0 = os.getcwd()"
   ]
  },
  {
   "cell_type": "code",
   "execution_count": 3,
   "metadata": {},
   "outputs": [],
   "source": [
    "# set executable\n",
    "executable_path= \"/home/emendive/workbench/work/from_claix/codes/VASP/vasp.5.4.4-flag4/bin\"\n",
    "potential_path = \"/home/emendive/workbench/work/from_claix/codes/VASP/potentials/potpaw_PBE\""
   ]
  },
  {
   "cell_type": "markdown",
   "metadata": {},
   "source": [
    "# FM bcc Fe (2x1x1 supercell)"
   ]
  },
  {
   "cell_type": "markdown",
   "metadata": {},
   "source": [
    "set working directory"
   ]
  },
  {
   "cell_type": "code",
   "execution_count": 4,
   "metadata": {},
   "outputs": [],
   "source": [
    "cwd = dir_0 + \"/FM_2x1x1\"\n",
    "if not os.path.exists(cwd):\n",
    "   run(\"mkdir \" + cwd, shell=True)"
   ]
  },
  {
   "cell_type": "markdown",
   "metadata": {},
   "source": [
    "set crystal structure"
   ]
  },
  {
   "cell_type": "code",
   "execution_count": 5,
   "metadata": {},
   "outputs": [],
   "source": [
    "a = 2.79 # A\n",
    "alpha = 90\n",
    "structure = crystal(('Fe'),\n",
    "                       basis=[(0.00, 0.00, 0.00)],\n",
    "                       spacegroup=229,\n",
    "                       cellpar=[a, a, a, alpha, alpha, alpha])"
   ]
  },
  {
   "cell_type": "markdown",
   "metadata": {},
   "source": [
    "set calculation"
   ]
  },
  {
   "cell_type": "code",
   "execution_count": 6,
   "metadata": {},
   "outputs": [],
   "source": [
    "# create vasp class\n",
    "vasp = VASP_job(verbose=\"low\", executable_path=executable_path, potential_path=potential_path)\n",
    "\n",
    "# update current working directory\n",
    "vasp.io.cwd = cwd"
   ]
  },
  {
   "cell_type": "code",
   "execution_count": 7,
   "metadata": {},
   "outputs": [],
   "source": [
    "# set magdirs for a FM state\n",
    "number_of_atoms = len(structure)\n",
    "magdirs   = []\n",
    "for i in range(number_of_atoms):\n",
    "   if 'Fe' == structure.get_chemical_symbols()[i]:\n",
    "      magdirs.append([0, 0, 1])\n",
    "\n",
    "structure.new_array(\"magdirs\", magdirs, dtype=float)"
   ]
  },
  {
   "cell_type": "code",
   "execution_count": 8,
   "metadata": {},
   "outputs": [],
   "source": [
    "# SUPERCELL (should be done after adding arrays):\n",
    "structure = structure.repeat((2,1,1))\n",
    "# update kpoints\n",
    "vasp.structure.kpoints = \"6 12 12\""
   ]
  },
  {
   "cell_type": "code",
   "execution_count": 9,
   "metadata": {},
   "outputs": [],
   "source": [
    "# set calculation, which creates all input files\n",
    "vasp.set_calculation(structure)"
   ]
  },
  {
   "cell_type": "markdown",
   "metadata": {},
   "source": [
    "visualize structure"
   ]
  },
  {
   "cell_type": "code",
   "execution_count": 10,
   "metadata": {},
   "outputs": [
    {
     "data": {
      "application/vnd.jupyter.widget-view+json": {
       "model_id": "aec9ee9bc8b64d029d7bc324db2880ab",
       "version_major": 2,
       "version_minor": 0
      },
      "text/plain": [
       "NGLWidget()"
      ]
     },
     "metadata": {},
     "output_type": "display_data"
    }
   ],
   "source": [
    "view = nglview.show_ase(structure)\n",
    "view.add_unitcell()\n",
    "view"
   ]
  },
  {
   "cell_type": "markdown",
   "metadata": {},
   "source": [
    "visualize some inputs"
   ]
  },
  {
   "cell_type": "code",
   "execution_count": 11,
   "metadata": {},
   "outputs": [
    {
     "data": {
      "text/html": [
       "<div>\n",
       "<style scoped>\n",
       "    .dataframe tbody tr th:only-of-type {\n",
       "        vertical-align: middle;\n",
       "    }\n",
       "\n",
       "    .dataframe tbody tr th {\n",
       "        vertical-align: top;\n",
       "    }\n",
       "\n",
       "    .dataframe thead th {\n",
       "        text-align: right;\n",
       "    }\n",
       "</style>\n",
       "<table border=\"1\" class=\"dataframe\">\n",
       "  <thead>\n",
       "    <tr style=\"text-align: right;\">\n",
       "      <th></th>\n",
       "      <th>elements</th>\n",
       "      <th>positions</th>\n",
       "      <th>magdirs</th>\n",
       "      <th>ms</th>\n",
       "      <th>betahs</th>\n",
       "      <th>magmoms</th>\n",
       "      <th>B_CONSTRs</th>\n",
       "    </tr>\n",
       "  </thead>\n",
       "  <tbody>\n",
       "    <tr>\n",
       "      <th>0</th>\n",
       "      <td>Fe</td>\n",
       "      <td>(0.0, 0.0, 0.0)</td>\n",
       "      <td>(0.0, 0.0, 1.0)</td>\n",
       "      <td>1.0</td>\n",
       "      <td>inf</td>\n",
       "      <td>(0.0, 0.0, 1.0)</td>\n",
       "      <td>(0.0, 0.0, 0.0)</td>\n",
       "    </tr>\n",
       "    <tr>\n",
       "      <th>1</th>\n",
       "      <td>Fe</td>\n",
       "      <td>(1.395, 1.395, 1.395)</td>\n",
       "      <td>(0.0, 0.0, 1.0)</td>\n",
       "      <td>1.0</td>\n",
       "      <td>inf</td>\n",
       "      <td>(0.0, 0.0, 1.0)</td>\n",
       "      <td>(0.0, 0.0, 0.0)</td>\n",
       "    </tr>\n",
       "    <tr>\n",
       "      <th>2</th>\n",
       "      <td>Fe</td>\n",
       "      <td>(2.79, 0.0, 0.0)</td>\n",
       "      <td>(0.0, 0.0, 1.0)</td>\n",
       "      <td>1.0</td>\n",
       "      <td>inf</td>\n",
       "      <td>(0.0, 0.0, 1.0)</td>\n",
       "      <td>(0.0, 0.0, 0.0)</td>\n",
       "    </tr>\n",
       "    <tr>\n",
       "      <th>3</th>\n",
       "      <td>Fe</td>\n",
       "      <td>(4.1850000000000005, 1.395, 1.395)</td>\n",
       "      <td>(0.0, 0.0, 1.0)</td>\n",
       "      <td>1.0</td>\n",
       "      <td>inf</td>\n",
       "      <td>(0.0, 0.0, 1.0)</td>\n",
       "      <td>(0.0, 0.0, 0.0)</td>\n",
       "    </tr>\n",
       "  </tbody>\n",
       "</table>\n",
       "</div>"
      ],
      "text/plain": [
       "  elements                           positions          magdirs   ms  betahs  \\\n",
       "0       Fe                     (0.0, 0.0, 0.0)  (0.0, 0.0, 1.0)  1.0     inf   \n",
       "1       Fe               (1.395, 1.395, 1.395)  (0.0, 0.0, 1.0)  1.0     inf   \n",
       "2       Fe                    (2.79, 0.0, 0.0)  (0.0, 0.0, 1.0)  1.0     inf   \n",
       "3       Fe  (4.1850000000000005, 1.395, 1.395)  (0.0, 0.0, 1.0)  1.0     inf   \n",
       "\n",
       "           magmoms        B_CONSTRs  \n",
       "0  (0.0, 0.0, 1.0)  (0.0, 0.0, 0.0)  \n",
       "1  (0.0, 0.0, 1.0)  (0.0, 0.0, 0.0)  \n",
       "2  (0.0, 0.0, 1.0)  (0.0, 0.0, 0.0)  \n",
       "3  (0.0, 0.0, 1.0)  (0.0, 0.0, 0.0)  "
      ]
     },
     "execution_count": 11,
     "metadata": {},
     "output_type": "execute_result"
    }
   ],
   "source": [
    "vasp.df"
   ]
  },
  {
   "cell_type": "code",
   "execution_count": 12,
   "metadata": {},
   "outputs": [
    {
     "data": {
      "text/plain": [
       "0    [0.0000000000, 0.0000000000, 1.0000000000]\n",
       "1    [0.0000000000, 0.0000000000, 1.0000000000]\n",
       "2    [0.0000000000, 0.0000000000, 1.0000000000]\n",
       "3    [0.0000000000, 0.0000000000, 1.0000000000]\n",
       "Name: magmoms, dtype: object"
      ]
     },
     "execution_count": 12,
     "metadata": {},
     "output_type": "execute_result"
    }
   ],
   "source": [
    "df_magmoms = vasp.df[\"magmoms\"].apply(format_vector)\n",
    "df_magmoms"
   ]
  },
  {
   "cell_type": "code",
   "execution_count": 13,
   "metadata": {},
   "outputs": [
    {
     "name": "stdout",
     "output_type": "stream",
     "text": [
      "kpoints = 6 12 12\n",
      "\n",
      "lattice vectors =\n",
      " [[5.58 0.   0.  ]\n",
      " [0.   2.79 0.  ]\n",
      " [0.   0.   2.79]]\n",
      "\n",
      "species = ['Fe']\n",
      "\n",
      "elements = 0    Fe\n",
      "1    Fe\n",
      "2    Fe\n",
      "3    Fe\n",
      "Name: elements, dtype: object\n"
     ]
    }
   ],
   "source": [
    "print(\"kpoints =\",vasp.structure.kpoints)\n",
    "print(\"\\nlattice vectors =\\n\",vasp.structure.lattice_vectors)\n",
    "print(\"\\nspecies =\",vasp.structure.species)\n",
    "print(\"\\nelements =\",vasp.structure.elements)"
   ]
  }
 ],
 "metadata": {
  "kernelspec": {
   "display_name": "work",
   "language": "python",
   "name": "python3"
  },
  "language_info": {
   "codemirror_mode": {
    "name": "ipython",
    "version": 3
   },
   "file_extension": ".py",
   "mimetype": "text/x-python",
   "name": "python",
   "nbconvert_exporter": "python",
   "pygments_lexer": "ipython3",
   "version": "3.9.13"
  }
 },
 "nbformat": 4,
 "nbformat_minor": 2
}
