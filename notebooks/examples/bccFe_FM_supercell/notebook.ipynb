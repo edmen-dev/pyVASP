{
 "cells": [
  {
   "cell_type": "markdown",
   "metadata": {},
   "source": [
    "This notebook contains a few examples for bcc Fe to illustrate how pyVASP works\n",
    "\n",
    "- Note: They only show how to create the inputs (set_calculation()), to submit the job, use:\n",
    "   \n",
    "   self.run_vasp() or self.submit_job()"
   ]
  },
  {
   "cell_type": "code",
   "execution_count": 1,
   "metadata": {},
   "outputs": [
    {
     "data": {
      "application/vnd.jupyter.widget-view+json": {
       "model_id": "baab21db4b124db88b93a5ac2a6792e9",
       "version_major": 2,
       "version_minor": 0
      },
      "text/plain": []
     },
     "metadata": {},
     "output_type": "display_data"
    }
   ],
   "source": [
    "import os\n",
    "from subprocess import run\n",
    "import numpy as np\n",
    "from pyVASP.code.main import pyVASP\n",
    "\n",
    "import pandas as pd\n",
    "import ase\n",
    "from ase.spacegroup import crystal\n",
    "\n",
    "# Define a custom formatting function for vectors in pandas\n",
    "format_vector = lambda vector: '[' + ', '.join(['{:.10f}'.format(x) for x in vector]) + ']'\n",
    "\n",
    "import nglview"
   ]
  },
  {
   "cell_type": "code",
   "execution_count": 2,
   "metadata": {},
   "outputs": [],
   "source": [
    "dir_0 = os.getcwd()"
   ]
  },
  {
   "cell_type": "code",
   "execution_count": 3,
   "metadata": {},
   "outputs": [],
   "source": [
    "# set executable\n",
    "executable_path= \"/home/emendive/workbench/work/from_claix/codes/VASP/vasp.5.4.4-flag4/bin\"\n",
    "potential_path = \"/home/emendive/workbench/work/from_claix/codes/VASP/potentials/potpaw_PBE\""
   ]
  },
  {
   "cell_type": "markdown",
   "metadata": {},
   "source": [
    "# FM bcc Fe (2x1x1 supercell)"
   ]
  },
  {
   "cell_type": "markdown",
   "metadata": {},
   "source": [
    "set working directory"
   ]
  },
  {
   "cell_type": "code",
   "execution_count": 4,
   "metadata": {},
   "outputs": [],
   "source": [
    "cwd = dir_0 + \"/FM_2x1x1\"\n",
    "if not os.path.exists(cwd):\n",
    "   run(\"mkdir \" + cwd, shell=True)"
   ]
  },
  {
   "cell_type": "markdown",
   "metadata": {},
   "source": [
    "set crystal structure"
   ]
  },
  {
   "cell_type": "code",
   "execution_count": 5,
   "metadata": {},
   "outputs": [],
   "source": [
    "a = 2.79 # A\n",
    "alpha = 90\n",
    "structure = crystal(('Fe'),\n",
    "                       basis=[(0.00, 0.00, 0.00)],\n",
    "                       spacegroup=229,\n",
    "                       cellpar=[a, a, a, alpha, alpha, alpha])"
   ]
  },
  {
   "cell_type": "markdown",
   "metadata": {},
   "source": [
    "set calculation"
   ]
  },
  {
   "cell_type": "code",
   "execution_count": 6,
   "metadata": {},
   "outputs": [],
   "source": [
    "# create vasp class\n",
    "vasp = pyVASP(verbose=\"low\", executable_path=executable_path, potential_path=potential_path)\n",
    "\n",
    "# update current working directory\n",
    "vasp.io.cwd = cwd"
   ]
  },
  {
   "cell_type": "code",
   "execution_count": 7,
   "metadata": {},
   "outputs": [],
   "source": [
    "# set magdirs for a FM state\n",
    "number_of_atoms = len(structure)\n",
    "magdirs   = []\n",
    "for i in range(number_of_atoms):\n",
    "   if 'Fe' == structure.get_chemical_symbols()[i]:\n",
    "      magdirs.append([0, 0, 1])\n",
    "\n",
    "structure.new_array(\"magdirs\", magdirs, dtype=float)"
   ]
  },
  {
   "cell_type": "code",
   "execution_count": 8,
   "metadata": {},
   "outputs": [],
   "source": [
    "# SUPERCELL (should be done after adding arrays):\n",
    "structure = structure.repeat((2,1,1))\n",
    "# update kpoints\n",
    "vasp.structure.kpoints = \"6 12 12\""
   ]
  },
  {
   "cell_type": "code",
   "execution_count": 9,
   "metadata": {},
   "outputs": [],
   "source": [
    "# set calculation, which creates all input files\n",
    "vasp.set_calculation(structure)"
   ]
  },
  {
   "cell_type": "markdown",
   "metadata": {},
   "source": [
    "visualize structure"
   ]
  },
  {
   "cell_type": "code",
   "execution_count": 10,
   "metadata": {},
   "outputs": [
    {
     "data": {
      "application/vnd.jupyter.widget-view+json": {
       "model_id": "4e824569c69a423ba86047a540d725d0",
       "version_major": 2,
       "version_minor": 0
      },
      "text/plain": [
       "NGLWidget()"
      ]
     },
     "metadata": {},
     "output_type": "display_data"
    }
   ],
   "source": [
    "view = nglview.show_ase(structure)\n",
    "view.add_unitcell()\n",
    "view"
   ]
  },
  {
   "cell_type": "markdown",
   "metadata": {},
   "source": [
    "visualize some inputs"
   ]
  },
  {
   "cell_type": "code",
   "execution_count": 11,
   "metadata": {},
   "outputs": [
    {
     "data": {
      "text/html": [
       "<div>\n",
       "<style scoped>\n",
       "    .dataframe tbody tr th:only-of-type {\n",
       "        vertical-align: middle;\n",
       "    }\n",
       "\n",
       "    .dataframe tbody tr th {\n",
       "        vertical-align: top;\n",
       "    }\n",
       "\n",
       "    .dataframe thead th {\n",
       "        text-align: right;\n",
       "    }\n",
       "</style>\n",
       "<table border=\"1\" class=\"dataframe\">\n",
       "  <thead>\n",
       "    <tr style=\"text-align: right;\">\n",
       "      <th></th>\n",
       "      <th>elements</th>\n",
       "      <th>positions</th>\n",
       "      <th>magdirs</th>\n",
       "      <th>ms</th>\n",
       "      <th>betahs</th>\n",
       "      <th>magmoms</th>\n",
       "      <th>B_CONSTRs</th>\n",
       "    </tr>\n",
       "  </thead>\n",
       "  <tbody>\n",
       "    <tr>\n",
       "      <th>0</th>\n",
       "      <td>Fe</td>\n",
       "      <td>(0.0, 0.0, 0.0)</td>\n",
       "      <td>(0.0, 0.0, 1.0)</td>\n",
       "      <td>1.0</td>\n",
       "      <td>inf</td>\n",
       "      <td>(0.0, 0.0, 1.0)</td>\n",
       "      <td>(0.0, 0.0, 0.0)</td>\n",
       "    </tr>\n",
       "    <tr>\n",
       "      <th>1</th>\n",
       "      <td>Fe</td>\n",
       "      <td>(1.395, 1.395, 1.395)</td>\n",
       "      <td>(0.0, 0.0, 1.0)</td>\n",
       "      <td>1.0</td>\n",
       "      <td>inf</td>\n",
       "      <td>(0.0, 0.0, 1.0)</td>\n",
       "      <td>(0.0, 0.0, 0.0)</td>\n",
       "    </tr>\n",
       "    <tr>\n",
       "      <th>2</th>\n",
       "      <td>Fe</td>\n",
       "      <td>(2.79, 0.0, 0.0)</td>\n",
       "      <td>(0.0, 0.0, 1.0)</td>\n",
       "      <td>1.0</td>\n",
       "      <td>inf</td>\n",
       "      <td>(0.0, 0.0, 1.0)</td>\n",
       "      <td>(0.0, 0.0, 0.0)</td>\n",
       "    </tr>\n",
       "    <tr>\n",
       "      <th>3</th>\n",
       "      <td>Fe</td>\n",
       "      <td>(4.1850000000000005, 1.395, 1.395)</td>\n",
       "      <td>(0.0, 0.0, 1.0)</td>\n",
       "      <td>1.0</td>\n",
       "      <td>inf</td>\n",
       "      <td>(0.0, 0.0, 1.0)</td>\n",
       "      <td>(0.0, 0.0, 0.0)</td>\n",
       "    </tr>\n",
       "  </tbody>\n",
       "</table>\n",
       "</div>"
      ],
      "text/plain": [
       "  elements                           positions          magdirs   ms  betahs  \\\n",
       "0       Fe                     (0.0, 0.0, 0.0)  (0.0, 0.0, 1.0)  1.0     inf   \n",
       "1       Fe               (1.395, 1.395, 1.395)  (0.0, 0.0, 1.0)  1.0     inf   \n",
       "2       Fe                    (2.79, 0.0, 0.0)  (0.0, 0.0, 1.0)  1.0     inf   \n",
       "3       Fe  (4.1850000000000005, 1.395, 1.395)  (0.0, 0.0, 1.0)  1.0     inf   \n",
       "\n",
       "           magmoms        B_CONSTRs  \n",
       "0  (0.0, 0.0, 1.0)  (0.0, 0.0, 0.0)  \n",
       "1  (0.0, 0.0, 1.0)  (0.0, 0.0, 0.0)  \n",
       "2  (0.0, 0.0, 1.0)  (0.0, 0.0, 0.0)  \n",
       "3  (0.0, 0.0, 1.0)  (0.0, 0.0, 0.0)  "
      ]
     },
     "execution_count": 11,
     "metadata": {},
     "output_type": "execute_result"
    }
   ],
   "source": [
    "vasp.df"
   ]
  },
  {
   "cell_type": "code",
   "execution_count": 12,
   "metadata": {},
   "outputs": [
    {
     "data": {
      "text/plain": [
       "0    [0.0000000000, 0.0000000000, 1.0000000000]\n",
       "1    [0.0000000000, 0.0000000000, 1.0000000000]\n",
       "2    [0.0000000000, 0.0000000000, 1.0000000000]\n",
       "3    [0.0000000000, 0.0000000000, 1.0000000000]\n",
       "Name: magmoms, dtype: object"
      ]
     },
     "execution_count": 12,
     "metadata": {},
     "output_type": "execute_result"
    }
   ],
   "source": [
    "df_magmoms = vasp.df[\"magmoms\"].apply(format_vector)\n",
    "df_magmoms"
   ]
  },
  {
   "cell_type": "code",
   "execution_count": 13,
   "metadata": {},
   "outputs": [
    {
     "name": "stdout",
     "output_type": "stream",
     "text": [
      "kpoints = 6 12 12\n",
      "\n",
      "lattice vectors =\n",
      " [[5.58 0.   0.  ]\n",
      " [0.   2.79 0.  ]\n",
      " [0.   0.   2.79]]\n",
      "\n",
      "species = ['Fe']\n",
      "\n",
      "elements = 0    Fe\n",
      "1    Fe\n",
      "2    Fe\n",
      "3    Fe\n",
      "Name: elements, dtype: object\n"
     ]
    }
   ],
   "source": [
    "print(\"kpoints =\",vasp.structure.kpoints)\n",
    "print(\"\\nlattice vectors =\\n\",vasp.structure.lattice_vectors)\n",
    "print(\"\\nspecies =\",vasp.structure.species)\n",
    "print(\"\\nelements =\",vasp.structure.elements)"
   ]
  },
  {
   "cell_type": "markdown",
   "metadata": {},
   "source": [
    "# FM bcc Fe (6x6x6 supercell) of Ising type DLM"
   ]
  },
  {
   "cell_type": "code",
   "execution_count": 14,
   "metadata": {},
   "outputs": [],
   "source": [
    "cwd = dir_0 + \"/FM_6x6x6_Ising\"\n",
    "if not os.path.exists(cwd):\n",
    "   run(\"mkdir \" + cwd, shell=True)"
   ]
  },
  {
   "cell_type": "markdown",
   "metadata": {},
   "source": [
    "set crystal structure"
   ]
  },
  {
   "cell_type": "code",
   "execution_count": 15,
   "metadata": {},
   "outputs": [],
   "source": [
    "a = 2.79 # A\n",
    "alpha = 90\n",
    "structure = crystal(('Fe'),\n",
    "                       basis=[(0.00, 0.00, 0.00)],\n",
    "                       spacegroup=229,\n",
    "                       cellpar=[a, a, a, alpha, alpha, alpha])"
   ]
  },
  {
   "cell_type": "markdown",
   "metadata": {},
   "source": [
    "set calculation"
   ]
  },
  {
   "cell_type": "code",
   "execution_count": 16,
   "metadata": {},
   "outputs": [],
   "source": [
    "# create vasp class\n",
    "vasp = pyVASP(verbose=\"low\", executable_path=executable_path, potential_path=potential_path, DLM_type=\"Ising\")\n",
    "\n",
    "# update current working directory\n",
    "vasp.io.cwd = cwd"
   ]
  },
  {
   "cell_type": "code",
   "execution_count": 17,
   "metadata": {},
   "outputs": [],
   "source": [
    "# set magdirs for a FM state\n",
    "value_of_m = 0.2\n",
    "\n",
    "number_of_atoms = len(structure)\n",
    "magdirs = []\n",
    "ms      = []\n",
    "for i in range(number_of_atoms):\n",
    "   if 'Fe' == structure.get_chemical_symbols()[i]:\n",
    "      magdirs.append([0, 0, 1])\n",
    "      ms.append(value_of_m)\n",
    "\n",
    "structure.new_array(\"magdirs\", magdirs, dtype=float)\n",
    "structure.new_array(\"ms\", ms, dtype=float)"
   ]
  },
  {
   "cell_type": "code",
   "execution_count": 18,
   "metadata": {},
   "outputs": [],
   "source": [
    "# first prepare bfields (constraints)\n",
    "vasp.prepare_bfields(I_CONSTRAINED_M=\"4\", LAMBDA=\"1\")\n",
    "\n",
    "# SUPERCELL (should be done after adding arrays):\n",
    "structure = structure.repeat((6,6,6))\n",
    "# update kpoints\n",
    "vasp.structure.kpoints = \"2 2 2\""
   ]
  },
  {
   "cell_type": "code",
   "execution_count": 19,
   "metadata": {},
   "outputs": [],
   "source": [
    "# set calculation, which creates all input files\n",
    "vasp.set_calculation(structure)"
   ]
  },
  {
   "cell_type": "code",
   "execution_count": 20,
   "metadata": {},
   "outputs": [
    {
     "data": {
      "application/vnd.jupyter.widget-view+json": {
       "model_id": "f4d2ba99350742f181fbdc2b33ff5a71",
       "version_major": 2,
       "version_minor": 0
      },
      "text/plain": [
       "NGLWidget()"
      ]
     },
     "metadata": {},
     "output_type": "display_data"
    }
   ],
   "source": [
    "view = nglview.show_ase(structure)\n",
    "view.add_unitcell()\n",
    "view"
   ]
  },
  {
   "cell_type": "code",
   "execution_count": 21,
   "metadata": {},
   "outputs": [
    {
     "data": {
      "text/html": [
       "<div>\n",
       "<style scoped>\n",
       "    .dataframe tbody tr th:only-of-type {\n",
       "        vertical-align: middle;\n",
       "    }\n",
       "\n",
       "    .dataframe tbody tr th {\n",
       "        vertical-align: top;\n",
       "    }\n",
       "\n",
       "    .dataframe thead th {\n",
       "        text-align: right;\n",
       "    }\n",
       "</style>\n",
       "<table border=\"1\" class=\"dataframe\">\n",
       "  <thead>\n",
       "    <tr style=\"text-align: right;\">\n",
       "      <th></th>\n",
       "      <th>elements</th>\n",
       "      <th>positions</th>\n",
       "      <th>magdirs</th>\n",
       "      <th>ms</th>\n",
       "      <th>betahs</th>\n",
       "      <th>magmoms</th>\n",
       "      <th>B_CONSTRs</th>\n",
       "    </tr>\n",
       "  </thead>\n",
       "  <tbody>\n",
       "    <tr>\n",
       "      <th>0</th>\n",
       "      <td>Fe</td>\n",
       "      <td>(0.0, 0.0, 0.0)</td>\n",
       "      <td>(0.0, 0.0, 1.0)</td>\n",
       "      <td>0.2</td>\n",
       "      <td>0.202733</td>\n",
       "      <td>(0.0, 0.0, 1.0)</td>\n",
       "      <td>(0.0, 0.0, 0.0)</td>\n",
       "    </tr>\n",
       "    <tr>\n",
       "      <th>2</th>\n",
       "      <td>Fe</td>\n",
       "      <td>(0.0, 0.0, 2.79)</td>\n",
       "      <td>(0.0, 0.0, 1.0)</td>\n",
       "      <td>0.2</td>\n",
       "      <td>0.202733</td>\n",
       "      <td>(-0.0, -0.0, -1.0)</td>\n",
       "      <td>(0.0, 0.0, 0.0)</td>\n",
       "    </tr>\n",
       "    <tr>\n",
       "      <th>4</th>\n",
       "      <td>Fe</td>\n",
       "      <td>(0.0, 0.0, 5.58)</td>\n",
       "      <td>(0.0, 0.0, 1.0)</td>\n",
       "      <td>0.2</td>\n",
       "      <td>0.202733</td>\n",
       "      <td>(-0.0, -0.0, -1.0)</td>\n",
       "      <td>(0.0, 0.0, 0.0)</td>\n",
       "    </tr>\n",
       "    <tr>\n",
       "      <th>6</th>\n",
       "      <td>Fe</td>\n",
       "      <td>(0.0, 0.0, 8.370000000000001)</td>\n",
       "      <td>(0.0, 0.0, 1.0)</td>\n",
       "      <td>0.2</td>\n",
       "      <td>0.202733</td>\n",
       "      <td>(0.0, 0.0, 1.0)</td>\n",
       "      <td>(0.0, 0.0, 0.0)</td>\n",
       "    </tr>\n",
       "    <tr>\n",
       "      <th>8</th>\n",
       "      <td>Fe</td>\n",
       "      <td>(0.0, 0.0, 11.16)</td>\n",
       "      <td>(0.0, 0.0, 1.0)</td>\n",
       "      <td>0.2</td>\n",
       "      <td>0.202733</td>\n",
       "      <td>(0.0, 0.0, 1.0)</td>\n",
       "      <td>(0.0, 0.0, 0.0)</td>\n",
       "    </tr>\n",
       "    <tr>\n",
       "      <th>...</th>\n",
       "      <td>...</td>\n",
       "      <td>...</td>\n",
       "      <td>...</td>\n",
       "      <td>...</td>\n",
       "      <td>...</td>\n",
       "      <td>...</td>\n",
       "      <td>...</td>\n",
       "    </tr>\n",
       "    <tr>\n",
       "      <th>423</th>\n",
       "      <td>Fe</td>\n",
       "      <td>(15.344999999999999, 15.344999999999999, 4.185...</td>\n",
       "      <td>(0.0, 0.0, 1.0)</td>\n",
       "      <td>0.2</td>\n",
       "      <td>0.202733</td>\n",
       "      <td>(0.0, 0.0, 1.0)</td>\n",
       "      <td>(0.0, 0.0, 0.0)</td>\n",
       "    </tr>\n",
       "    <tr>\n",
       "      <th>425</th>\n",
       "      <td>Fe</td>\n",
       "      <td>(15.344999999999999, 15.344999999999999, 6.975)</td>\n",
       "      <td>(0.0, 0.0, 1.0)</td>\n",
       "      <td>0.2</td>\n",
       "      <td>0.202733</td>\n",
       "      <td>(-0.0, -0.0, -1.0)</td>\n",
       "      <td>(0.0, 0.0, 0.0)</td>\n",
       "    </tr>\n",
       "    <tr>\n",
       "      <th>427</th>\n",
       "      <td>Fe</td>\n",
       "      <td>(15.344999999999999, 15.344999999999999, 9.765)</td>\n",
       "      <td>(0.0, 0.0, 1.0)</td>\n",
       "      <td>0.2</td>\n",
       "      <td>0.202733</td>\n",
       "      <td>(0.0, 0.0, 1.0)</td>\n",
       "      <td>(0.0, 0.0, 0.0)</td>\n",
       "    </tr>\n",
       "    <tr>\n",
       "      <th>429</th>\n",
       "      <td>Fe</td>\n",
       "      <td>(15.344999999999999, 15.344999999999999, 12.555)</td>\n",
       "      <td>(0.0, 0.0, 1.0)</td>\n",
       "      <td>0.2</td>\n",
       "      <td>0.202733</td>\n",
       "      <td>(0.0, 0.0, 1.0)</td>\n",
       "      <td>(0.0, 0.0, 0.0)</td>\n",
       "    </tr>\n",
       "    <tr>\n",
       "      <th>431</th>\n",
       "      <td>Fe</td>\n",
       "      <td>(15.344999999999999, 15.344999999999999, 15.34...</td>\n",
       "      <td>(0.0, 0.0, 1.0)</td>\n",
       "      <td>0.2</td>\n",
       "      <td>0.202733</td>\n",
       "      <td>(0.0, 0.0, 1.0)</td>\n",
       "      <td>(0.0, 0.0, 0.0)</td>\n",
       "    </tr>\n",
       "  </tbody>\n",
       "</table>\n",
       "<p>432 rows × 7 columns</p>\n",
       "</div>"
      ],
      "text/plain": [
       "    elements                                          positions  \\\n",
       "0         Fe                                    (0.0, 0.0, 0.0)   \n",
       "2         Fe                                   (0.0, 0.0, 2.79)   \n",
       "4         Fe                                   (0.0, 0.0, 5.58)   \n",
       "6         Fe                      (0.0, 0.0, 8.370000000000001)   \n",
       "8         Fe                                  (0.0, 0.0, 11.16)   \n",
       "..       ...                                                ...   \n",
       "423       Fe  (15.344999999999999, 15.344999999999999, 4.185...   \n",
       "425       Fe    (15.344999999999999, 15.344999999999999, 6.975)   \n",
       "427       Fe    (15.344999999999999, 15.344999999999999, 9.765)   \n",
       "429       Fe   (15.344999999999999, 15.344999999999999, 12.555)   \n",
       "431       Fe  (15.344999999999999, 15.344999999999999, 15.34...   \n",
       "\n",
       "             magdirs   ms    betahs             magmoms        B_CONSTRs  \n",
       "0    (0.0, 0.0, 1.0)  0.2  0.202733     (0.0, 0.0, 1.0)  (0.0, 0.0, 0.0)  \n",
       "2    (0.0, 0.0, 1.0)  0.2  0.202733  (-0.0, -0.0, -1.0)  (0.0, 0.0, 0.0)  \n",
       "4    (0.0, 0.0, 1.0)  0.2  0.202733  (-0.0, -0.0, -1.0)  (0.0, 0.0, 0.0)  \n",
       "6    (0.0, 0.0, 1.0)  0.2  0.202733     (0.0, 0.0, 1.0)  (0.0, 0.0, 0.0)  \n",
       "8    (0.0, 0.0, 1.0)  0.2  0.202733     (0.0, 0.0, 1.0)  (0.0, 0.0, 0.0)  \n",
       "..               ...  ...       ...                 ...              ...  \n",
       "423  (0.0, 0.0, 1.0)  0.2  0.202733     (0.0, 0.0, 1.0)  (0.0, 0.0, 0.0)  \n",
       "425  (0.0, 0.0, 1.0)  0.2  0.202733  (-0.0, -0.0, -1.0)  (0.0, 0.0, 0.0)  \n",
       "427  (0.0, 0.0, 1.0)  0.2  0.202733     (0.0, 0.0, 1.0)  (0.0, 0.0, 0.0)  \n",
       "429  (0.0, 0.0, 1.0)  0.2  0.202733     (0.0, 0.0, 1.0)  (0.0, 0.0, 0.0)  \n",
       "431  (0.0, 0.0, 1.0)  0.2  0.202733     (0.0, 0.0, 1.0)  (0.0, 0.0, 0.0)  \n",
       "\n",
       "[432 rows x 7 columns]"
      ]
     },
     "execution_count": 21,
     "metadata": {},
     "output_type": "execute_result"
    }
   ],
   "source": [
    "vasp.df"
   ]
  },
  {
   "cell_type": "code",
   "execution_count": 22,
   "metadata": {},
   "outputs": [
    {
     "data": {
      "text/plain": [
       "0         [0.0000000000, 0.0000000000, 1.0000000000]\n",
       "2      [-0.0000000000, -0.0000000000, -1.0000000000]\n",
       "4      [-0.0000000000, -0.0000000000, -1.0000000000]\n",
       "6         [0.0000000000, 0.0000000000, 1.0000000000]\n",
       "8         [0.0000000000, 0.0000000000, 1.0000000000]\n",
       "                           ...                      \n",
       "423       [0.0000000000, 0.0000000000, 1.0000000000]\n",
       "425    [-0.0000000000, -0.0000000000, -1.0000000000]\n",
       "427       [0.0000000000, 0.0000000000, 1.0000000000]\n",
       "429       [0.0000000000, 0.0000000000, 1.0000000000]\n",
       "431       [0.0000000000, 0.0000000000, 1.0000000000]\n",
       "Name: magmoms, Length: 432, dtype: object"
      ]
     },
     "execution_count": 22,
     "metadata": {},
     "output_type": "execute_result"
    }
   ],
   "source": [
    "df_magmoms = vasp.df[\"magmoms\"].apply(format_vector)\n",
    "df_magmoms"
   ]
  },
  {
   "cell_type": "code",
   "execution_count": 23,
   "metadata": {},
   "outputs": [
    {
     "name": "stdout",
     "output_type": "stream",
     "text": [
      "kpoints = 2 2 2\n",
      "\n",
      "lattice vectors =\n",
      " [[16.74  0.    0.  ]\n",
      " [ 0.   16.74  0.  ]\n",
      " [ 0.    0.   16.74]]\n",
      "\n",
      "species = ['Fe']\n",
      "\n",
      "elements = 0      Fe\n",
      "2      Fe\n",
      "4      Fe\n",
      "6      Fe\n",
      "8      Fe\n",
      "       ..\n",
      "423    Fe\n",
      "425    Fe\n",
      "427    Fe\n",
      "429    Fe\n",
      "431    Fe\n",
      "Name: elements, Length: 432, dtype: object\n"
     ]
    }
   ],
   "source": [
    "print(\"kpoints =\",vasp.structure.kpoints)\n",
    "print(\"\\nlattice vectors =\\n\",vasp.structure.lattice_vectors)\n",
    "print(\"\\nspecies =\",vasp.structure.species)\n",
    "print(\"\\nelements =\",vasp.structure.elements)"
   ]
  },
  {
   "cell_type": "code",
   "execution_count": null,
   "metadata": {},
   "outputs": [],
   "source": []
  }
 ],
 "metadata": {
  "kernelspec": {
   "display_name": "work",
   "language": "python",
   "name": "python3"
  },
  "language_info": {
   "codemirror_mode": {
    "name": "ipython",
    "version": 3
   },
   "file_extension": ".py",
   "mimetype": "text/x-python",
   "name": "python",
   "nbconvert_exporter": "python",
   "pygments_lexer": "ipython3",
   "version": "3.9.undefined"
  }
 },
 "nbformat": 4,
 "nbformat_minor": 2
}
