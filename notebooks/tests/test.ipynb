{
 "cells": [
  {
   "cell_type": "code",
   "execution_count": 1,
   "metadata": {},
   "outputs": [],
   "source": [
    "import os\n",
    "import numpy as np\n",
    "from dataclasses import dataclass, fields\n",
    "from VASP_job.code.main import VASP_job\n",
    "\n",
    "import pandas as pd\n",
    "import ase\n",
    "from ase.spacegroup import crystal\n",
    "\n",
    "from pyiron.atomistics.structure.atoms import ase_to_pyiron\n",
    "from pyiron.atomistics.structure.atoms import pyiron_to_ase\n",
    "\n",
    "import matplotlib.pyplot as plt\n",
    "\n",
    "\n",
    "# Define a custom formatting function for vectors in pandas\n",
    "format_vector = lambda vector: '[' + ', '.join(['{:.10f}'.format(x) for x in vector]) + ']'"
   ]
  },
  {
   "cell_type": "code",
   "execution_count": 2,
   "metadata": {},
   "outputs": [
    {
     "data": {
      "text/plain": [
       "{'Mn', 'N', 'Ni'}"
      ]
     },
     "execution_count": 2,
     "metadata": {},
     "output_type": "execute_result"
    }
   ],
   "source": [
    "a = 3.95\n",
    "alpha = 90\n",
    "structure = crystal(('Ni', 'Mn', 'N'),\n",
    "                       basis=[(0.00, 0.00, 0.00), (0.00, 0.50, 0.50), (0.50, 0.50, 0.50)],\n",
    "                       spacegroup=221,\n",
    "                       cellpar=[a, a, a, alpha, alpha, alpha])\n",
    "structure.symbols.species()"
   ]
  },
  {
   "cell_type": "code",
   "execution_count": 3,
   "metadata": {},
   "outputs": [],
   "source": [
    "Dtheta = 120 * np.pi/180\n",
    "theta = -Dtheta\n",
    "\n",
    "number_of_atoms = len(structure)\n",
    "magdirs   = []\n",
    "ms        = []\n",
    "B_CONSTR  = []\n",
    "for i in range(number_of_atoms):\n",
    "   if 'Mn' == structure.get_chemical_symbols()[i]:\n",
    "      theta += Dtheta\n",
    "      magdirs.append([np.cos(theta), np.sin(theta), 0])\n",
    "      ms.append(0.5)\n",
    "      B_CONSTR.append([0, 0, 0])\n",
    "   else:\n",
    "      magdirs.append([0, 0, 0])\n",
    "      ms.append(1)\n",
    "      B_CONSTR.append([0, 0, 0])"
   ]
  },
  {
   "cell_type": "code",
   "execution_count": 4,
   "metadata": {},
   "outputs": [],
   "source": [
    "structure.new_array(\"magdirs\", magdirs, dtype=float)\n",
    "structure.new_array(\"ms\", ms, dtype=float)\n",
    "structure.new_array(\"B_CONSTR\", B_CONSTR, dtype=float)"
   ]
  },
  {
   "cell_type": "code",
   "execution_count": 5,
   "metadata": {},
   "outputs": [],
   "source": [
    "structure = structure.repeat((2,1,1))\n",
    "# structure = ase_to_pyiron(structure)\n",
    "# structure.set_repeat([2,2,2])\n",
    "# structure = pyiron_to_ase(structure)"
   ]
  },
  {
   "cell_type": "code",
   "execution_count": 6,
   "metadata": {},
   "outputs": [],
   "source": [
    "# Create a defition that does all this?\n",
    "\n",
    "executable_path= \"/home/emendive/workbench/work/from_claix/codes/VASP/vasp.5.4.4-flag4/bin\"\n",
    "potential_path = \"/home/emendive/workbench/work/from_claix/codes/VASP/potentials/potpaw_PBE\"\n",
    "vasp = VASP_job(verbose=\"low\", executable_path=executable_path, potential_path=potential_path)"
   ]
  },
  {
   "cell_type": "code",
   "execution_count": 7,
   "metadata": {},
   "outputs": [],
   "source": [
    "vasp.prepare_bfields()\n",
    "vasp.set_calculation(structure)"
   ]
  },
  {
   "cell_type": "code",
   "execution_count": 8,
   "metadata": {},
   "outputs": [],
   "source": [
    "vasp.restart_from_charge(kpoints=\"3 2 2\", LAMBDA=3)"
   ]
  },
  {
   "cell_type": "code",
   "execution_count": 9,
   "metadata": {},
   "outputs": [],
   "source": [
    "this_dir = os.getcwd()\n",
    "vasp.restart_from_charge(cwd_new=this_dir+\"/aaa\", kpoints=\"3 3 2\", LAMBDA=5)"
   ]
  }
 ],
 "metadata": {
  "kernelspec": {
   "display_name": "work",
   "language": "python",
   "name": "python3"
  },
  "language_info": {
   "codemirror_mode": {
    "name": "ipython",
    "version": 3
   },
   "file_extension": ".py",
   "mimetype": "text/x-python",
   "name": "python",
   "nbconvert_exporter": "python",
   "pygments_lexer": "ipython3",
   "version": "3.9.13"
  },
  "orig_nbformat": 4
 },
 "nbformat": 4,
 "nbformat_minor": 2
}
