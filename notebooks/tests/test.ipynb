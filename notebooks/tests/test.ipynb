{
 "cells": [
  {
   "cell_type": "code",
   "execution_count": 1,
   "metadata": {},
   "outputs": [],
   "source": [
    "import os\n",
    "import numpy as np\n",
    "from dataclasses import dataclass, fields\n",
    "from VASP_job.code.main import VASP_job\n",
    "\n",
    "import pandas as pd\n",
    "import ase\n",
    "from ase.spacegroup import crystal\n",
    "\n",
    "from pyiron.atomistics.structure.atoms import ase_to_pyiron\n",
    "from pyiron.atomistics.structure.atoms import pyiron_to_ase\n",
    "\n",
    "import matplotlib.pyplot as plt\n",
    "\n",
    "\n",
    "# Define a custom formatting function for vectors in pandas\n",
    "format_vector = lambda vector: '[' + ', '.join(['{:.10f}'.format(x) for x in vector]) + ']'"
   ]
  },
  {
   "cell_type": "code",
   "execution_count": 2,
   "metadata": {},
   "outputs": [
    {
     "data": {
      "text/plain": [
       "{'Mn', 'N', 'Ni'}"
      ]
     },
     "execution_count": 2,
     "metadata": {},
     "output_type": "execute_result"
    }
   ],
   "source": [
    "a = 3.95\n",
    "alpha = 90\n",
    "structure = crystal(('Ni', 'Mn', 'N'),\n",
    "                       basis=[(0.00, 0.00, 0.00), (0.00, 0.50, 0.50), (0.50, 0.50, 0.50)],\n",
    "                       spacegroup=221,\n",
    "                       cellpar=[a, a, a, alpha, alpha, alpha])\n",
    "structure.symbols.species()"
   ]
  },
  {
   "cell_type": "code",
   "execution_count": 3,
   "metadata": {},
   "outputs": [],
   "source": [
    "Dtheta = 120 * np.pi/180\n",
    "theta = -Dtheta\n",
    "\n",
    "number_of_atoms = len(structure)\n",
    "magdirs   = []\n",
    "ms        = []\n",
    "B_CONSTR  = []\n",
    "for i in range(number_of_atoms):\n",
    "   if 'Mn' == structure.get_chemical_symbols()[i]:\n",
    "      theta += Dtheta\n",
    "      magdirs.append([np.cos(theta), np.sin(theta), 0])\n",
    "      ms.append(0.5)\n",
    "      B_CONSTR.append([0, 0, 0])\n",
    "   else:\n",
    "      magdirs.append([0, 0, 0])\n",
    "      ms.append(1)\n",
    "      B_CONSTR.append([0, 0, 0])"
   ]
  },
  {
   "cell_type": "code",
   "execution_count": 4,
   "metadata": {},
   "outputs": [],
   "source": [
    "structure.new_array(\"magdirs\", magdirs, dtype=float)\n",
    "structure.new_array(\"ms\", ms, dtype=float)\n",
    "structure.new_array(\"B_CONSTR\", B_CONSTR, dtype=float)"
   ]
  },
  {
   "cell_type": "code",
   "execution_count": 5,
   "metadata": {},
   "outputs": [],
   "source": [
    "structure = structure.repeat((2,1,1))\n",
    "# structure = ase_to_pyiron(structure)\n",
    "# structure.set_repeat([2,2,2])\n",
    "# structure = pyiron_to_ase(structure)"
   ]
  },
  {
   "cell_type": "code",
   "execution_count": 7,
   "metadata": {},
   "outputs": [
    {
     "name": "stdout",
     "output_type": "stream",
     "text": [
      "\n",
      "Your executable is:\n",
      "   /home/emendive/workbench/work/from_claix/codes/VASP/vasp.5.4.4-flag4/bin/vasp_ncl\n",
      "\n",
      "Your potential path is:\n",
      "   /home/emendive/workbench/work/from_claix/codes/VASP/potentials/potpaw_PBE/\n",
      "\n",
      "Your current working directory (cwd) is:\n",
      "   /home/emendive/workbench/devel/gitclones/VASP_job/notebooks/tests/\n",
      "\n",
      "Your bfields and relaxation flags are:\n",
      "   bfields=False\n",
      "   relaxation=False\n",
      "\n",
      "Your seed_mag for DLM approach is:\n",
      "   seed_mag=False\n",
      "\n",
      "Your default INCAR parameters are:\n",
      "   SYSTEM = job\n",
      "   PREC = Accurate\n",
      "   ALGO = Fast\n",
      "   ISTART = 0\n",
      "   ICHARG = 2\n",
      "   LREAL = .FALSE.\n",
      "   LWAVE = .FALSE.\n",
      "   LCHARG = .TRUE.\n",
      "   LORBIT = 11\n",
      "   ISMEAR = 1\n",
      "   SIGMA = 0.005\n",
      "   ISPIN = 2\n",
      "   ENCUT = 500\n",
      "   EDIFF = 1e-6\n",
      "   NELM = 200\n",
      "   LMAXMIX = 6\n",
      "   LNONCOLLINEAR = .TRUE.\n",
      "   NPAR = 5\n",
      "   ISYM = 2\n",
      "\n",
      "Your default INCAR parameters for constraining fields are:\n",
      "   I_CONSTRAINED_M = 4\n",
      "   LAMBDA = 1\n",
      "   B_MIX = 1.0\n",
      "   B_ref = 0.02\n",
      "   N_MIX = 4\n",
      "   E_PENALTY_MAX = 3.8\n",
      "   LAMBDA_FIELD_MAX = 1e-3\n",
      "\n",
      "Your default INCAR parameters for relaxation are:\n",
      "   IBRION = 2\n",
      "   ISIF = 3\n",
      "   NSW = 100\n",
      "   EDIFFG = -0.01\n",
      "\n",
      "Your default RWIGS parameters are:\n",
      "   N = 0.979\n",
      "   Mn = 1.323\n",
      "   Fe = 1.164\n",
      "   Ni = 1.058\n",
      "   Ga = 1.217\n",
      "\n",
      "Your default potentials are:\n",
      "   N = N\n",
      "   Mn = Mn_pv\n",
      "   Fe = Fe_pv\n",
      "   Ni = Ni_pv\n",
      "   Ga = Ga_d\n"
     ]
    }
   ],
   "source": [
    "# Create a defition that does all this?\n",
    "\n",
    "executable_path= \"/home/emendive/workbench/work/from_claix/codes/VASP/vasp.5.4.4-flag4/bin\"\n",
    "potential_path = \"/home/emendive/workbench/work/from_claix/codes/VASP/potentials/potpaw_PBE\"\n",
    "vasp = VASP_job(verbose=\"high\", executable_path=executable_path, potential_path=potential_path, seed_mag=False)"
   ]
  },
  {
   "cell_type": "code",
   "execution_count": 12,
   "metadata": {},
   "outputs": [],
   "source": [
    "vasp.prepare_bfields()\n",
    "vasp.set_calculation(structure.copy())"
   ]
  },
  {
   "cell_type": "code",
   "execution_count": 9,
   "metadata": {},
   "outputs": [],
   "source": [
    "vasp.restart_from_charge(kpoints=\"3 2 2\", LAMBDA=3)"
   ]
  },
  {
   "cell_type": "code",
   "execution_count": 11,
   "metadata": {},
   "outputs": [
    {
     "name": "stderr",
     "output_type": "stream",
     "text": [
      "cp: cannot stat 'CHGCAR': No such file or directory\n",
      "cp: cannot stat 'CHG': No such file or directory\n",
      "cp: cannot stat 'WAVECAR': No such file or directory\n"
     ]
    }
   ],
   "source": [
    "this_dir = os.getcwd()\n",
    "vasp.restart_from_charge(cwd_new=this_dir+\"/aaa\", kpoints=\"3 3 3\", LAMBDA=7)"
   ]
  },
  {
   "cell_type": "code",
   "execution_count": 12,
   "metadata": {},
   "outputs": [
    {
     "data": {
      "text/plain": [
       "'/home/emendive/workbench/devel/gitclones/VASP_job/notebooks/tests/aaa'"
      ]
     },
     "execution_count": 12,
     "metadata": {},
     "output_type": "execute_result"
    }
   ],
   "source": [
    "this_dir"
   ]
  }
 ],
 "metadata": {
  "kernelspec": {
   "display_name": "work",
   "language": "python",
   "name": "python3"
  },
  "language_info": {
   "codemirror_mode": {
    "name": "ipython",
    "version": 3
   },
   "file_extension": ".py",
   "mimetype": "text/x-python",
   "name": "python",
   "nbconvert_exporter": "python",
   "pygments_lexer": "ipython3",
   "version": "3.9.13"
  },
  "orig_nbformat": 4
 },
 "nbformat": 4,
 "nbformat_minor": 2
}
