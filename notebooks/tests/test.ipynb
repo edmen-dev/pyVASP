{
 "cells": [
  {
   "cell_type": "code",
   "execution_count": 1,
   "metadata": {},
   "outputs": [],
   "source": [
    "import os\n",
    "import numpy as np\n",
    "from dataclasses import dataclass, fields\n",
    "from VASP_job.code.main import VASP_job\n",
    "\n",
    "import pandas as pd\n",
    "import ase\n",
    "from ase.spacegroup import crystal\n",
    "\n",
    "from pyiron.atomistics.structure.atoms import ase_to_pyiron\n",
    "from pyiron.atomistics.structure.atoms import pyiron_to_ase\n",
    "\n",
    "import matplotlib.pyplot as plt\n",
    "\n",
    "\n",
    "# Define a custom formatting function for vectors in pandas\n",
    "format_vector = lambda vector: '[' + ', '.join(['{:.10f}'.format(x) for x in vector]) + ']'"
   ]
  },
  {
   "cell_type": "code",
   "execution_count": 2,
   "metadata": {},
   "outputs": [
    {
     "data": {
      "text/plain": [
       "{'Mn', 'N', 'Ni'}"
      ]
     },
     "execution_count": 2,
     "metadata": {},
     "output_type": "execute_result"
    }
   ],
   "source": [
    "a = 3.95\n",
    "alpha = 90\n",
    "structure = crystal(('Ni', 'Mn', 'N'),\n",
    "                       basis=[(0.00, 0.00, 0.00), (0.00, 0.50, 0.50), (0.50, 0.50, 0.50)],\n",
    "                       spacegroup=221,\n",
    "                       cellpar=[a, a, a, alpha, alpha, alpha])\n",
    "structure.symbols.species()"
   ]
  },
  {
   "cell_type": "code",
   "execution_count": 3,
   "metadata": {},
   "outputs": [],
   "source": [
    "Dtheta = 120 * np.pi/180\n",
    "theta = -Dtheta\n",
    "\n",
    "number_of_atoms = len(structure)\n",
    "magdirs   = []\n",
    "ms        = []\n",
    "B_CONSTR  = []\n",
    "for i in range(number_of_atoms):\n",
    "   if 'Mn' == structure.get_chemical_symbols()[i]:\n",
    "      theta += Dtheta\n",
    "      magdirs.append([np.cos(theta), np.sin(theta), 0])\n",
    "      ms.append(0.5)\n",
    "      B_CONSTR.append([0, 0, 0])\n",
    "   else:\n",
    "      magdirs.append([0, 0, 0])\n",
    "      ms.append(1)\n",
    "      B_CONSTR.append([0, 0, 0])"
   ]
  },
  {
   "cell_type": "code",
   "execution_count": 4,
   "metadata": {},
   "outputs": [],
   "source": [
    "structure.new_array(\"magdirs\", magdirs, dtype=float)\n",
    "structure.new_array(\"ms\", ms, dtype=float)\n",
    "structure.new_array(\"B_CONSTR\", B_CONSTR, dtype=float)"
   ]
  },
  {
   "cell_type": "code",
   "execution_count": 5,
   "metadata": {},
   "outputs": [],
   "source": [
    "structure = structure.repeat((2,1,1))\n",
    "# structure = ase_to_pyiron(structure)\n",
    "# structure.set_repeat([2,2,2])\n",
    "# structure = pyiron_to_ase(structure)"
   ]
  },
  {
   "cell_type": "code",
   "execution_count": 6,
   "metadata": {},
   "outputs": [
    {
     "data": {
      "text/plain": [
       "array([1. , 0.5, 0.5, 0.5, 1. , 1. , 0.5, 0.5, 0.5, 1. ])"
      ]
     },
     "execution_count": 6,
     "metadata": {},
     "output_type": "execute_result"
    }
   ],
   "source": [
    "structure.arrays[\"ms\"]"
   ]
  },
  {
   "cell_type": "code",
   "execution_count": 7,
   "metadata": {},
   "outputs": [
    {
     "data": {
      "text/plain": [
       "array([[0.   , 0.   , 0.   ],\n",
       "       [0.   , 1.975, 1.975],\n",
       "       [1.975, 0.   , 1.975],\n",
       "       [1.975, 1.975, 0.   ],\n",
       "       [1.975, 1.975, 1.975],\n",
       "       [3.95 , 0.   , 0.   ],\n",
       "       [3.95 , 1.975, 1.975],\n",
       "       [5.925, 0.   , 1.975],\n",
       "       [5.925, 1.975, 0.   ],\n",
       "       [5.925, 1.975, 1.975]])"
      ]
     },
     "execution_count": 7,
     "metadata": {},
     "output_type": "execute_result"
    }
   ],
   "source": [
    "structure.arrays[\"positions\"]"
   ]
  },
  {
   "cell_type": "code",
   "execution_count": 8,
   "metadata": {},
   "outputs": [
    {
     "data": {
      "text/plain": [
       "['Ni', 'Mn', 'Mn', 'Mn', 'N', 'Ni', 'Mn', 'Mn', 'Mn', 'N']"
      ]
     },
     "execution_count": 8,
     "metadata": {},
     "output_type": "execute_result"
    }
   ],
   "source": [
    "structure.get_chemical_symbols()"
   ]
  },
  {
   "cell_type": "code",
   "execution_count": 9,
   "metadata": {},
   "outputs": [],
   "source": [
    "# Create a defition that does all this?\n",
    "\n",
    "executable_path= \"/home/emendive/workbench/work/from_claix/codes/VASP/vasp.5.4.4-flag4/bin\"\n",
    "potential_path = \"/home/emendive/workbench/work/from_claix/codes/VASP/potentials/potpaw_PBE\"\n",
    "vasp = VASP_job(verbose=\"low\", executable_path=executable_path, potential_path=potential_path)"
   ]
  },
  {
   "cell_type": "code",
   "execution_count": 10,
   "metadata": {},
   "outputs": [],
   "source": [
    "vasp.set_calculation(structure)"
   ]
  },
  {
   "cell_type": "code",
   "execution_count": 11,
   "metadata": {},
   "outputs": [
    {
     "data": {
      "text/plain": [
       "['Ni', 'Mn', 'Mn', 'Mn', 'N', 'Ni', 'Mn', 'Mn', 'Mn', 'N']"
      ]
     },
     "execution_count": 11,
     "metadata": {},
     "output_type": "execute_result"
    }
   ],
   "source": [
    "structure.get_chemical_symbols()"
   ]
  },
  {
   "cell_type": "code",
   "execution_count": 12,
   "metadata": {},
   "outputs": [],
   "source": [
    "elements = list( vasp.df[\"elements\"] )"
   ]
  },
  {
   "cell_type": "code",
   "execution_count": 14,
   "metadata": {},
   "outputs": [
    {
     "data": {
      "text/plain": [
       "['Mn', 'N', 'Ni']"
      ]
     },
     "execution_count": 14,
     "metadata": {},
     "output_type": "execute_result"
    }
   ],
   "source": [
    "species = []\n",
    "for element in elements:\n",
    "   if element not in species:\n",
    "      species.append(element)\n",
    "\n",
    "species"
   ]
  },
  {
   "cell_type": "code",
   "execution_count": 25,
   "metadata": {},
   "outputs": [
    {
     "data": {
      "text/plain": [
       "array([3.95, 0.  , 0.  ])"
      ]
     },
     "execution_count": 25,
     "metadata": {},
     "output_type": "execute_result"
    }
   ],
   "source": [
    "tuple(vasp.df[\"positions\"].values)[-1]"
   ]
  },
  {
   "cell_type": "code",
   "execution_count": 16,
   "metadata": {},
   "outputs": [
    {
     "data": {
      "text/plain": [
       "<Popen: returncode: None args: ['/home/emendive/anaconda3/envs/work_pyiron/b...>"
      ]
     },
     "execution_count": 16,
     "metadata": {},
     "output_type": "execute_result"
    }
   ],
   "source": [
    "from ase.visualize import view\n",
    "view(structure)"
   ]
  },
  {
   "cell_type": "code",
   "execution_count": 17,
   "metadata": {},
   "outputs": [
    {
     "data": {
      "application/vnd.jupyter.widget-view+json": {
       "model_id": "941c91a5a7d348efb01b64ea84ccd89c",
       "version_major": 2,
       "version_minor": 0
      },
      "text/plain": []
     },
     "metadata": {},
     "output_type": "display_data"
    },
    {
     "data": {
      "application/vnd.jupyter.widget-view+json": {
       "model_id": "7237ab62cc3f45d5a19466a84cc2ee77",
       "version_major": 2,
       "version_minor": 0
      },
      "text/plain": [
       "NGLWidget()"
      ]
     },
     "metadata": {},
     "output_type": "display_data"
    }
   ],
   "source": [
    "import nglview\n",
    "view = nglview.show_ase(structure)\n",
    "view.add_unitcell()\n",
    "view.add_ball_and_stick()\n",
    "view"
   ]
  },
  {
   "cell_type": "code",
   "execution_count": null,
   "metadata": {},
   "outputs": [],
   "source": []
  },
  {
   "cell_type": "code",
   "execution_count": null,
   "metadata": {},
   "outputs": [],
   "source": [
    "def vasp_next(vasp, dir_0, name):\n",
    "\n",
    "   cwd = dir_0 + \"/\" + name\n",
    "   \n",
    "   cwd_next = cwd + \"_k2x2x2\"\n",
    "   os.chdir(dir_0)\n",
    "   run(\"cp -r \"+cwd+\"_k1x1x1\"+\" \"+cwd_next)\n",
    "   os.chdir(cwd_next)\n",
    "\n",
    "   # update inputs and run\n",
    "   vasp.io.cwd = cwd_next\n",
    "\n",
    "   vasp.structure.kpoints = \"2 2 2\"\n",
    "   vasp.io.write_KPOINTS(kpoints)\n",
    "\n",
    "   vasp.io.INCAR.ISTART = 1\n",
    "   vasp.io.INCAR.ICHARG = 1\n",
    "   species = vasp.structure.species\n",
    "   magmoms   = vasp.df[\"magmoms\"].tolist()\n",
    "   B_CONSTRs = vasp.df[\"B_CONSTRs\"].tolist()\n",
    "   vasp.io.write_INCAR(species, magmoms, B_CONSTRs)\n",
    "\n",
    "   vasp.run_vasp()\n",
    "\n",
    "   return vasp\n",
    "\n",
    "def prepare_vasp(dir_0, A, mu, repeat_cell, name, m, next_flag=False):\n",
    "   # prepare folder\n",
    "   cwd_first = cwd + \"_k1x1x1\"\n",
    "   if not os.path.exists(cwd):\n",
    "      run(\"mkdir \" + cwd_first, shell=True)\n",
    "   os.chdir(cwd_first)\n",
    "\n",
    "   # prepare crystal structure\n",
    "   a = 3.95 # A\n",
    "   alpha = 90\n",
    "   structure = crystal((A, 'Mn', 'N'),\n",
    "                        basis=[(0.00, 0.00, 0.00), (0.00, 0.50, 0.50), (0.50, 0.50, 0.50)],\n",
    "                        spacegroup=221,\n",
    "                        cellpar=[a, a, a, alpha, alpha, alpha])\n",
    "\n",
    "   # prepare magnetism (triangular AFM state)\n",
    "   Dtheta = 120 * np.pi/180\n",
    "   theta = -Dtheta\n",
    "\n",
    "   number_of_atoms = len(structure)\n",
    "   magdirs   = []\n",
    "   ms    = []\n",
    "   # B_CONSTRs = []\n",
    "   for i in range(number_of_atoms):\n",
    "      if 'Mn' == structure.get_chemical_symbols()[i]:\n",
    "         theta += Dtheta\n",
    "         magdirs.append(np.array([np.cos(theta), np.sin(theta), 0])*mu)\n",
    "         ms.append(value_of_m)\n",
    "         # B_CONSTRs.append([0.0, 0.0, 0.0])\n",
    "      else:\n",
    "         magdirs.append([0.0, 0.0, 0.0])\n",
    "         ms.append(1)\n",
    "         # B_CONSTRs.append([0.0, 0.0, 0.0])\n",
    "\n",
    "   structure.new_array(\"magdirs\", magdirs, dtype=float)\n",
    "   structure.new_array(\"ms\", ms, dtype=float)\n",
    "   # structure.new_array(\"B_CONSTR\", B_CONSTR, dtype=float)\n",
    "\n",
    "   # create vasp class\n",
    "   vasp = VASP_job(verbose=\"low\", executable_path=executable_path, potential_path=potential_path, pyscript=True)\n",
    "   vasp.io.cwd = cwd_first\n",
    "\n",
    "   # create SUPERCELL (should be done after adding arrays):\n",
    "   structure = structure.repeat(repeat_cell)\n",
    "\n",
    "   # update inputs\n",
    "   vasp.structure.kpoints = \"1 1 1\"\n",
    "   vasp.io.INCAR.NPAR = \"10\"\n",
    "   vasp.io.INCAR.NELM = \"100\"\n",
    "\n",
    "   # set calculation and run\n",
    "   vasp.set_calculation(structure)\n",
    "   vasp.run_vasp()\n",
    "\n",
    "   return vasp"
   ]
  }
 ],
 "metadata": {
  "kernelspec": {
   "display_name": "work",
   "language": "python",
   "name": "python3"
  },
  "language_info": {
   "codemirror_mode": {
    "name": "ipython",
    "version": 3
   },
   "file_extension": ".py",
   "mimetype": "text/x-python",
   "name": "python",
   "nbconvert_exporter": "python",
   "pygments_lexer": "ipython3",
   "version": "3.9.13"
  },
  "orig_nbformat": 4
 },
 "nbformat": 4,
 "nbformat_minor": 2
}
